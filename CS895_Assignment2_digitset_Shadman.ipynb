{
  "nbformat": 4,
  "nbformat_minor": 0,
  "metadata": {
    "colab": {
      "provenance": [],
      "mount_file_id": "1Sbka2RiqQRRy8jNNP3Ab8rvZ8l2LcYzq",
      "authorship_tag": "ABX9TyO5Rnkh+d+DKjHdptMIX0wQ",
      "include_colab_link": true
    },
    "kernelspec": {
      "name": "python3",
      "display_name": "Python 3"
    },
    "language_info": {
      "name": "python"
    }
  },
  "cells": [
    {
      "cell_type": "markdown",
      "metadata": {
        "id": "view-in-github",
        "colab_type": "text"
      },
      "source": [
        "<a href=\"https://colab.research.google.com/github/Shadman-spath004/CS895_Assignment_2_Shadman01243104/blob/main/CS895_Assignment2_digitset_Shadman.ipynb\" target=\"_parent\"><img src=\"https://colab.research.google.com/assets/colab-badge.svg\" alt=\"Open In Colab\"/></a>"
      ]
    },
    {
      "cell_type": "code",
      "execution_count": null,
      "metadata": {
        "id": "3bUGMOx-Am4p"
      },
      "outputs": [],
      "source": [
        "#Importing key libraries, and reading data\n",
        "import pandas as pd\n",
        "import numpy as np\n",
        "\n",
        "np.random.seed(2409)\n",
        "\n",
        "import keras\n",
        "from keras.models import Model\n",
        "from keras.layers import *\n",
        "from keras import optimizers"
      ]
    },
    {
      "cell_type": "code",
      "source": [
        "df_train = pd.read_csv('/content/drive/MyDrive/Colab Notebooks/Digit MNIST/train.csv')\n",
        "df_test = pd.read_csv('/content/drive/MyDrive/Colab Notebooks/Digit MNIST/test.csv')"
      ],
      "metadata": {
        "id": "BA5CvLSxBBKJ"
      },
      "execution_count": null,
      "outputs": []
    },
    {
      "cell_type": "code",
      "source": [
        "df_train.head() # 784 features, 1 label"
      ],
      "metadata": {
        "colab": {
          "base_uri": "https://localhost:8080/",
          "height": 279
        },
        "id": "fIr46NDaBgCK",
        "outputId": "366153b0-22f6-4147-8507-d6bbe3597665"
      },
      "execution_count": null,
      "outputs": [
        {
          "output_type": "execute_result",
          "data": {
            "text/plain": [
              "   label  pixel0  pixel1  pixel2  pixel3  pixel4  pixel5  pixel6  pixel7  \\\n",
              "0      1       0       0       0       0       0       0       0       0   \n",
              "1      0       0       0       0       0       0       0       0       0   \n",
              "2      1       0       0       0       0       0       0       0       0   \n",
              "3      4       0       0       0       0       0       0       0       0   \n",
              "4      0       0       0       0       0       0       0       0       0   \n",
              "\n",
              "   pixel8  ...  pixel774  pixel775  pixel776  pixel777  pixel778  pixel779  \\\n",
              "0       0  ...         0         0         0         0         0         0   \n",
              "1       0  ...         0         0         0         0         0         0   \n",
              "2       0  ...         0         0         0         0         0         0   \n",
              "3       0  ...         0         0         0         0         0         0   \n",
              "4       0  ...         0         0         0         0         0         0   \n",
              "\n",
              "   pixel780  pixel781  pixel782  pixel783  \n",
              "0         0         0         0         0  \n",
              "1         0         0         0         0  \n",
              "2         0         0         0         0  \n",
              "3         0         0         0         0  \n",
              "4         0         0         0         0  \n",
              "\n",
              "[5 rows x 785 columns]"
            ],
            "text/html": [
              "\n",
              "  <div id=\"df-ad25ac33-8667-445a-87fa-28cdaa8e9fba\">\n",
              "    <div class=\"colab-df-container\">\n",
              "      <div>\n",
              "<style scoped>\n",
              "    .dataframe tbody tr th:only-of-type {\n",
              "        vertical-align: middle;\n",
              "    }\n",
              "\n",
              "    .dataframe tbody tr th {\n",
              "        vertical-align: top;\n",
              "    }\n",
              "\n",
              "    .dataframe thead th {\n",
              "        text-align: right;\n",
              "    }\n",
              "</style>\n",
              "<table border=\"1\" class=\"dataframe\">\n",
              "  <thead>\n",
              "    <tr style=\"text-align: right;\">\n",
              "      <th></th>\n",
              "      <th>label</th>\n",
              "      <th>pixel0</th>\n",
              "      <th>pixel1</th>\n",
              "      <th>pixel2</th>\n",
              "      <th>pixel3</th>\n",
              "      <th>pixel4</th>\n",
              "      <th>pixel5</th>\n",
              "      <th>pixel6</th>\n",
              "      <th>pixel7</th>\n",
              "      <th>pixel8</th>\n",
              "      <th>...</th>\n",
              "      <th>pixel774</th>\n",
              "      <th>pixel775</th>\n",
              "      <th>pixel776</th>\n",
              "      <th>pixel777</th>\n",
              "      <th>pixel778</th>\n",
              "      <th>pixel779</th>\n",
              "      <th>pixel780</th>\n",
              "      <th>pixel781</th>\n",
              "      <th>pixel782</th>\n",
              "      <th>pixel783</th>\n",
              "    </tr>\n",
              "  </thead>\n",
              "  <tbody>\n",
              "    <tr>\n",
              "      <th>0</th>\n",
              "      <td>1</td>\n",
              "      <td>0</td>\n",
              "      <td>0</td>\n",
              "      <td>0</td>\n",
              "      <td>0</td>\n",
              "      <td>0</td>\n",
              "      <td>0</td>\n",
              "      <td>0</td>\n",
              "      <td>0</td>\n",
              "      <td>0</td>\n",
              "      <td>...</td>\n",
              "      <td>0</td>\n",
              "      <td>0</td>\n",
              "      <td>0</td>\n",
              "      <td>0</td>\n",
              "      <td>0</td>\n",
              "      <td>0</td>\n",
              "      <td>0</td>\n",
              "      <td>0</td>\n",
              "      <td>0</td>\n",
              "      <td>0</td>\n",
              "    </tr>\n",
              "    <tr>\n",
              "      <th>1</th>\n",
              "      <td>0</td>\n",
              "      <td>0</td>\n",
              "      <td>0</td>\n",
              "      <td>0</td>\n",
              "      <td>0</td>\n",
              "      <td>0</td>\n",
              "      <td>0</td>\n",
              "      <td>0</td>\n",
              "      <td>0</td>\n",
              "      <td>0</td>\n",
              "      <td>...</td>\n",
              "      <td>0</td>\n",
              "      <td>0</td>\n",
              "      <td>0</td>\n",
              "      <td>0</td>\n",
              "      <td>0</td>\n",
              "      <td>0</td>\n",
              "      <td>0</td>\n",
              "      <td>0</td>\n",
              "      <td>0</td>\n",
              "      <td>0</td>\n",
              "    </tr>\n",
              "    <tr>\n",
              "      <th>2</th>\n",
              "      <td>1</td>\n",
              "      <td>0</td>\n",
              "      <td>0</td>\n",
              "      <td>0</td>\n",
              "      <td>0</td>\n",
              "      <td>0</td>\n",
              "      <td>0</td>\n",
              "      <td>0</td>\n",
              "      <td>0</td>\n",
              "      <td>0</td>\n",
              "      <td>...</td>\n",
              "      <td>0</td>\n",
              "      <td>0</td>\n",
              "      <td>0</td>\n",
              "      <td>0</td>\n",
              "      <td>0</td>\n",
              "      <td>0</td>\n",
              "      <td>0</td>\n",
              "      <td>0</td>\n",
              "      <td>0</td>\n",
              "      <td>0</td>\n",
              "    </tr>\n",
              "    <tr>\n",
              "      <th>3</th>\n",
              "      <td>4</td>\n",
              "      <td>0</td>\n",
              "      <td>0</td>\n",
              "      <td>0</td>\n",
              "      <td>0</td>\n",
              "      <td>0</td>\n",
              "      <td>0</td>\n",
              "      <td>0</td>\n",
              "      <td>0</td>\n",
              "      <td>0</td>\n",
              "      <td>...</td>\n",
              "      <td>0</td>\n",
              "      <td>0</td>\n",
              "      <td>0</td>\n",
              "      <td>0</td>\n",
              "      <td>0</td>\n",
              "      <td>0</td>\n",
              "      <td>0</td>\n",
              "      <td>0</td>\n",
              "      <td>0</td>\n",
              "      <td>0</td>\n",
              "    </tr>\n",
              "    <tr>\n",
              "      <th>4</th>\n",
              "      <td>0</td>\n",
              "      <td>0</td>\n",
              "      <td>0</td>\n",
              "      <td>0</td>\n",
              "      <td>0</td>\n",
              "      <td>0</td>\n",
              "      <td>0</td>\n",
              "      <td>0</td>\n",
              "      <td>0</td>\n",
              "      <td>0</td>\n",
              "      <td>...</td>\n",
              "      <td>0</td>\n",
              "      <td>0</td>\n",
              "      <td>0</td>\n",
              "      <td>0</td>\n",
              "      <td>0</td>\n",
              "      <td>0</td>\n",
              "      <td>0</td>\n",
              "      <td>0</td>\n",
              "      <td>0</td>\n",
              "      <td>0</td>\n",
              "    </tr>\n",
              "  </tbody>\n",
              "</table>\n",
              "<p>5 rows × 785 columns</p>\n",
              "</div>\n",
              "      <button class=\"colab-df-convert\" onclick=\"convertToInteractive('df-ad25ac33-8667-445a-87fa-28cdaa8e9fba')\"\n",
              "              title=\"Convert this dataframe to an interactive table.\"\n",
              "              style=\"display:none;\">\n",
              "        \n",
              "  <svg xmlns=\"http://www.w3.org/2000/svg\" height=\"24px\"viewBox=\"0 0 24 24\"\n",
              "       width=\"24px\">\n",
              "    <path d=\"M0 0h24v24H0V0z\" fill=\"none\"/>\n",
              "    <path d=\"M18.56 5.44l.94 2.06.94-2.06 2.06-.94-2.06-.94-.94-2.06-.94 2.06-2.06.94zm-11 1L8.5 8.5l.94-2.06 2.06-.94-2.06-.94L8.5 2.5l-.94 2.06-2.06.94zm10 10l.94 2.06.94-2.06 2.06-.94-2.06-.94-.94-2.06-.94 2.06-2.06.94z\"/><path d=\"M17.41 7.96l-1.37-1.37c-.4-.4-.92-.59-1.43-.59-.52 0-1.04.2-1.43.59L10.3 9.45l-7.72 7.72c-.78.78-.78 2.05 0 2.83L4 21.41c.39.39.9.59 1.41.59.51 0 1.02-.2 1.41-.59l7.78-7.78 2.81-2.81c.8-.78.8-2.07 0-2.86zM5.41 20L4 18.59l7.72-7.72 1.47 1.35L5.41 20z\"/>\n",
              "  </svg>\n",
              "      </button>\n",
              "      \n",
              "  <style>\n",
              "    .colab-df-container {\n",
              "      display:flex;\n",
              "      flex-wrap:wrap;\n",
              "      gap: 12px;\n",
              "    }\n",
              "\n",
              "    .colab-df-convert {\n",
              "      background-color: #E8F0FE;\n",
              "      border: none;\n",
              "      border-radius: 50%;\n",
              "      cursor: pointer;\n",
              "      display: none;\n",
              "      fill: #1967D2;\n",
              "      height: 32px;\n",
              "      padding: 0 0 0 0;\n",
              "      width: 32px;\n",
              "    }\n",
              "\n",
              "    .colab-df-convert:hover {\n",
              "      background-color: #E2EBFA;\n",
              "      box-shadow: 0px 1px 2px rgba(60, 64, 67, 0.3), 0px 1px 3px 1px rgba(60, 64, 67, 0.15);\n",
              "      fill: #174EA6;\n",
              "    }\n",
              "\n",
              "    [theme=dark] .colab-df-convert {\n",
              "      background-color: #3B4455;\n",
              "      fill: #D2E3FC;\n",
              "    }\n",
              "\n",
              "    [theme=dark] .colab-df-convert:hover {\n",
              "      background-color: #434B5C;\n",
              "      box-shadow: 0px 1px 3px 1px rgba(0, 0, 0, 0.15);\n",
              "      filter: drop-shadow(0px 1px 2px rgba(0, 0, 0, 0.3));\n",
              "      fill: #FFFFFF;\n",
              "    }\n",
              "  </style>\n",
              "\n",
              "      <script>\n",
              "        const buttonEl =\n",
              "          document.querySelector('#df-ad25ac33-8667-445a-87fa-28cdaa8e9fba button.colab-df-convert');\n",
              "        buttonEl.style.display =\n",
              "          google.colab.kernel.accessAllowed ? 'block' : 'none';\n",
              "\n",
              "        async function convertToInteractive(key) {\n",
              "          const element = document.querySelector('#df-ad25ac33-8667-445a-87fa-28cdaa8e9fba');\n",
              "          const dataTable =\n",
              "            await google.colab.kernel.invokeFunction('convertToInteractive',\n",
              "                                                     [key], {});\n",
              "          if (!dataTable) return;\n",
              "\n",
              "          const docLinkHtml = 'Like what you see? Visit the ' +\n",
              "            '<a target=\"_blank\" href=https://colab.research.google.com/notebooks/data_table.ipynb>data table notebook</a>'\n",
              "            + ' to learn more about interactive tables.';\n",
              "          element.innerHTML = '';\n",
              "          dataTable['output_type'] = 'display_data';\n",
              "          await google.colab.output.renderOutput(dataTable, element);\n",
              "          const docLink = document.createElement('div');\n",
              "          docLink.innerHTML = docLinkHtml;\n",
              "          element.appendChild(docLink);\n",
              "        }\n",
              "      </script>\n",
              "    </div>\n",
              "  </div>\n",
              "  "
            ]
          },
          "metadata": {},
          "execution_count": 43
        }
      ]
    },
    {
      "cell_type": "code",
      "source": [
        "# Splitting into training and validation dataset\n",
        "df_features = df_train.iloc[:, 1:785]\n",
        "df_label = df_train.iloc[:, 0]\n",
        "\n",
        "X_test = df_test.iloc[:, 0:784]\n",
        "\n",
        "print(X_test.shape)"
      ],
      "metadata": {
        "colab": {
          "base_uri": "https://localhost:8080/"
        },
        "id": "6wusqn6OBknQ",
        "outputId": "4c25c2cc-4a7f-4657-82ff-1865d32c25c9"
      },
      "execution_count": null,
      "outputs": [
        {
          "output_type": "stream",
          "name": "stdout",
          "text": [
            "(28000, 784)\n"
          ]
        }
      ]
    },
    {
      "cell_type": "code",
      "source": [
        "from sklearn.model_selection import train_test_split\n",
        "X_train, X_cv, y_train, y_cv = train_test_split(df_features, df_label, \n",
        "                                                test_size = 0.2,\n",
        "                                                random_state = 1212)\n",
        "\n",
        "X_train = X_train.values.reshape(33600, 784) #(33600, 784)\n",
        "X_cv = X_cv.values.reshape(8400, 784) #(8400, 784)\n",
        "\n",
        "X_test = X_test.values.reshape(28000, 784)"
      ],
      "metadata": {
        "id": "SV8VKz_PCxSD"
      },
      "execution_count": null,
      "outputs": []
    },
    {
      "cell_type": "code",
      "source": [
        "#Data cleaning, normalization and selection\n",
        "print((min(X_train[1]), max(X_train[1])))"
      ],
      "metadata": {
        "colab": {
          "base_uri": "https://localhost:8080/"
        },
        "id": "Cqt0hH76C38e",
        "outputId": "ed80f66b-bb2f-421a-ad37-707c53e03da1"
      },
      "execution_count": null,
      "outputs": [
        {
          "output_type": "stream",
          "name": "stdout",
          "text": [
            "(0, 255)\n"
          ]
        }
      ]
    },
    {
      "cell_type": "code",
      "source": [
        "#As the pixel intensities are currently between the range of 0 and 255, we proceed to normalize the features, using broadcasting. In addition, we proceed to convert our labels from a class vector to binary One Hot Encoded\n",
        "# Feature Normalization \n",
        "X_train = X_train.astype('float32'); X_cv= X_cv.astype('float32'); X_test = X_test.astype('float32')\n",
        "X_train /= 255; X_cv /= 255; X_test /= 255\n",
        "\n",
        "# Convert labels to One Hot Encoded\n",
        "num_digits = 10\n",
        "y_train = keras.utils.to_categorical(y_train, num_digits)\n",
        "y_cv = keras.utils.to_categorical(y_cv, num_digits)"
      ],
      "metadata": {
        "id": "kl9wzUCsDb2D"
      },
      "execution_count": null,
      "outputs": []
    },
    {
      "cell_type": "code",
      "source": [
        "# Printing 2 examples of labels after conversion\n",
        "print(y_train[0]) # 2\n",
        "print(y_train[3]) # 7"
      ],
      "metadata": {
        "colab": {
          "base_uri": "https://localhost:8080/"
        },
        "id": "0kgc86EHDqhG",
        "outputId": "ad4358c3-89b1-4f60-bd6f-04187dc25e19"
      },
      "execution_count": null,
      "outputs": [
        {
          "output_type": "stream",
          "name": "stdout",
          "text": [
            "[0. 0. 1. 0. 0. 0. 0. 0. 0. 0.]\n",
            "[0. 0. 0. 0. 0. 0. 0. 1. 0. 0.]\n"
          ]
        }
      ]
    },
    {
      "cell_type": "code",
      "source": [
        "#Model Fitting\n",
        "#We proceed by fitting several simple neural network models using Keras (with TensorFlow as our backend) and collect their accuracy. The model that performs the best on the validation set will be used as the model of choice for the competition.\n",
        "\n",
        "#Model 1: Simple Neural Network with 2 layers (300, 200)\n",
        "\n",
        "#In our first model, we will use the Keras library to train a neural network with the activation function set as ReLu. To determine which class to output, we will rely on the SoftMax function"
      ],
      "metadata": {
        "id": "EIRWmlitDzcT"
      },
      "execution_count": null,
      "outputs": []
    },
    {
      "cell_type": "code",
      "source": [
        "# Input Parameters\n",
        "n_input = 784 # number of features\n",
        "n_hidden_1 = 300\n",
        "n_hidden_2 = 200\n",
        "num_digits = 10"
      ],
      "metadata": {
        "id": "PWgV-FyYEfdL"
      },
      "execution_count": null,
      "outputs": []
    },
    {
      "cell_type": "code",
      "source": [
        "Inp = Input(shape=(784,))\n",
        "x = Dense(n_hidden_1, activation='relu', name = \"Hidden_Layer_1\")(Inp)\n",
        "x = Dense(n_hidden_2, activation='relu', name = \"Hidden_Layer_2\")(x)\n",
        "output = Dense(num_digits, activation='softmax', name = \"Output_Layer\")(x)"
      ],
      "metadata": {
        "id": "3C1Dhfp6EpRO"
      },
      "execution_count": null,
      "outputs": []
    },
    {
      "cell_type": "code",
      "source": [
        "# Our model would have '4' layers - input layer, 2 hidden layer and 1 output layer\n",
        "model = Model(Inp, output)\n",
        "model.summary() # We have 297,910 parameters to estimate"
      ],
      "metadata": {
        "colab": {
          "base_uri": "https://localhost:8080/"
        },
        "id": "tOrN6pt4E1BB",
        "outputId": "cdbc2110-39a8-4e52-b783-4f3a4050e1e4"
      },
      "execution_count": null,
      "outputs": [
        {
          "output_type": "stream",
          "name": "stdout",
          "text": [
            "Model: \"model_6\"\n",
            "_________________________________________________________________\n",
            " Layer (type)                Output Shape              Param #   \n",
            "=================================================================\n",
            " input_7 (InputLayer)        [(None, 784)]             0         \n",
            "                                                                 \n",
            " Hidden_Layer_1 (Dense)      (None, 300)               235500    \n",
            "                                                                 \n",
            " Hidden_Layer_2 (Dense)      (None, 200)               60200     \n",
            "                                                                 \n",
            " Output_Layer (Dense)        (None, 10)                2010      \n",
            "                                                                 \n",
            "=================================================================\n",
            "Total params: 297,710\n",
            "Trainable params: 297,710\n",
            "Non-trainable params: 0\n",
            "_________________________________________________________________\n"
          ]
        }
      ]
    },
    {
      "cell_type": "code",
      "source": [
        "# Insert Hyperparameters\n",
        "learning_rate = 0.1\n",
        "training_epochs = 20\n",
        "batch_size = 100\n",
        "sgd = optimizers.SGD(lr=learning_rate)"
      ],
      "metadata": {
        "colab": {
          "base_uri": "https://localhost:8080/"
        },
        "id": "VOwaP7QiE6ov",
        "outputId": "08f0fc52-2b54-45fb-d3e3-bcb6daa673a7"
      },
      "execution_count": null,
      "outputs": [
        {
          "output_type": "stream",
          "name": "stderr",
          "text": [
            "/usr/local/lib/python3.8/dist-packages/keras/optimizers/optimizer_v2/gradient_descent.py:108: UserWarning: The `lr` argument is deprecated, use `learning_rate` instead.\n",
            "  super(SGD, self).__init__(name, **kwargs)\n"
          ]
        }
      ]
    },
    {
      "cell_type": "code",
      "source": [
        "# We rely on the plain vanilla Stochastic Gradient Descent as our optimizing methodology\n",
        "model.compile(loss='categorical_crossentropy',\n",
        "              optimizer='sgd',\n",
        "              metrics=['accuracy'])"
      ],
      "metadata": {
        "id": "3mYAgcLNFEh3"
      },
      "execution_count": null,
      "outputs": []
    },
    {
      "cell_type": "code",
      "source": [
        "history1 = model.fit(X_train, y_train,\n",
        "                     batch_size = batch_size,\n",
        "                     epochs = training_epochs,\n",
        "                     verbose = 2,\n",
        "                     validation_data=(X_cv, y_cv))"
      ],
      "metadata": {
        "colab": {
          "base_uri": "https://localhost:8080/"
        },
        "id": "ggvpvS5sFOLM",
        "outputId": "8e511a77-8680-4203-d6b3-9b5fc2c35a2e"
      },
      "execution_count": null,
      "outputs": [
        {
          "output_type": "stream",
          "name": "stdout",
          "text": [
            "Epoch 1/20\n",
            "336/336 - 5s - loss: 1.3664 - accuracy: 0.6854 - val_loss: 0.6939 - val_accuracy: 0.8501 - 5s/epoch - 15ms/step\n",
            "Epoch 2/20\n",
            "336/336 - 3s - loss: 0.5458 - accuracy: 0.8660 - val_loss: 0.4481 - val_accuracy: 0.8848 - 3s/epoch - 10ms/step\n",
            "Epoch 3/20\n",
            "336/336 - 3s - loss: 0.4128 - accuracy: 0.8889 - val_loss: 0.3740 - val_accuracy: 0.8960 - 3s/epoch - 10ms/step\n",
            "Epoch 4/20\n",
            "336/336 - 3s - loss: 0.3598 - accuracy: 0.9000 - val_loss: 0.3373 - val_accuracy: 0.9057 - 3s/epoch - 10ms/step\n",
            "Epoch 5/20\n",
            "336/336 - 3s - loss: 0.3289 - accuracy: 0.9076 - val_loss: 0.3146 - val_accuracy: 0.9098 - 3s/epoch - 8ms/step\n",
            "Epoch 6/20\n",
            "336/336 - 2s - loss: 0.3064 - accuracy: 0.9134 - val_loss: 0.2984 - val_accuracy: 0.9165 - 2s/epoch - 6ms/step\n",
            "Epoch 7/20\n",
            "336/336 - 2s - loss: 0.2892 - accuracy: 0.9180 - val_loss: 0.2849 - val_accuracy: 0.9183 - 2s/epoch - 6ms/step\n",
            "Epoch 8/20\n",
            "336/336 - 2s - loss: 0.2752 - accuracy: 0.9221 - val_loss: 0.2754 - val_accuracy: 0.9211 - 2s/epoch - 6ms/step\n",
            "Epoch 9/20\n",
            "336/336 - 2s - loss: 0.2630 - accuracy: 0.9257 - val_loss: 0.2657 - val_accuracy: 0.9232 - 2s/epoch - 6ms/step\n",
            "Epoch 10/20\n",
            "336/336 - 2s - loss: 0.2522 - accuracy: 0.9289 - val_loss: 0.2551 - val_accuracy: 0.9263 - 2s/epoch - 6ms/step\n",
            "Epoch 11/20\n",
            "336/336 - 2s - loss: 0.2423 - accuracy: 0.9316 - val_loss: 0.2472 - val_accuracy: 0.9275 - 2s/epoch - 6ms/step\n",
            "Epoch 12/20\n",
            "336/336 - 2s - loss: 0.2333 - accuracy: 0.9338 - val_loss: 0.2397 - val_accuracy: 0.9294 - 2s/epoch - 6ms/step\n",
            "Epoch 13/20\n",
            "336/336 - 2s - loss: 0.2249 - accuracy: 0.9370 - val_loss: 0.2343 - val_accuracy: 0.9325 - 2s/epoch - 6ms/step\n",
            "Epoch 14/20\n",
            "336/336 - 2s - loss: 0.2171 - accuracy: 0.9386 - val_loss: 0.2266 - val_accuracy: 0.9348 - 2s/epoch - 6ms/step\n",
            "Epoch 15/20\n",
            "336/336 - 2s - loss: 0.2097 - accuracy: 0.9407 - val_loss: 0.2222 - val_accuracy: 0.9363 - 2s/epoch - 6ms/step\n",
            "Epoch 16/20\n",
            "336/336 - 2s - loss: 0.2028 - accuracy: 0.9428 - val_loss: 0.2163 - val_accuracy: 0.9368 - 2s/epoch - 6ms/step\n",
            "Epoch 17/20\n",
            "336/336 - 2s - loss: 0.1962 - accuracy: 0.9440 - val_loss: 0.2101 - val_accuracy: 0.9399 - 2s/epoch - 6ms/step\n",
            "Epoch 18/20\n",
            "336/336 - 2s - loss: 0.1902 - accuracy: 0.9468 - val_loss: 0.2050 - val_accuracy: 0.9412 - 2s/epoch - 6ms/step\n",
            "Epoch 19/20\n",
            "336/336 - 2s - loss: 0.1844 - accuracy: 0.9485 - val_loss: 0.2012 - val_accuracy: 0.9429 - 2s/epoch - 6ms/step\n",
            "Epoch 20/20\n",
            "336/336 - 2s - loss: 0.1790 - accuracy: 0.9499 - val_loss: 0.1966 - val_accuracy: 0.9424 - 2s/epoch - 6ms/step\n"
          ]
        }
      ]
    },
    {
      "cell_type": "code",
      "source": [
        "#Using a 2 layer neural network with:\n",
        "\n",
        "#20 training epochs\n",
        "#A training batch size of 100\n",
        "#Hidden layers set as (300, 100, 100, 200)\n",
        "#Learning rate of 0.1\n",
        "#Achieved a training score of around 94% and a test score of around 93%.\n",
        "\n",
        "#Can we do better if we were to change the optimizer? To find out, we use the Adam optimizer for our second model, while maintaining the same parameter values for all other parameters."
      ],
      "metadata": {
        "id": "3nW6BamSFSLV"
      },
      "execution_count": null,
      "outputs": []
    },
    {
      "cell_type": "code",
      "source": [
        "Inp = Input(shape=(784,))\n",
        "x = Dense(n_hidden_1, activation='relu', name = \"Hidden_Layer_1\")(Inp)\n",
        "x = Dense(n_hidden_2, activation='relu', name = \"Hidden_Layer_2\")(x)\n",
        "output = Dense(num_digits, activation='softmax', name = \"Output_Layer\")(x)\n",
        "\n",
        "# We rely on ADAM as our optimizing methodology\n",
        "adam = keras.optimizers.Adam(lr=learning_rate)\n",
        "model2 = Model(Inp, output)\n",
        "\n",
        "model2.compile(loss='categorical_crossentropy',\n",
        "              optimizer='adam',\n",
        "              metrics=['accuracy'])"
      ],
      "metadata": {
        "colab": {
          "base_uri": "https://localhost:8080/"
        },
        "id": "D8i9BuQEF6Vi",
        "outputId": "2828010f-2e5a-4367-e855-3dda576ec736"
      },
      "execution_count": null,
      "outputs": [
        {
          "output_type": "stream",
          "name": "stderr",
          "text": [
            "/usr/local/lib/python3.8/dist-packages/keras/optimizers/optimizer_v2/adam.py:110: UserWarning: The `lr` argument is deprecated, use `learning_rate` instead.\n",
            "  super(Adam, self).__init__(name, **kwargs)\n"
          ]
        }
      ]
    },
    {
      "cell_type": "code",
      "source": [
        "history2 = model2.fit(X_train, y_train,\n",
        "                      batch_size = batch_size,\n",
        "                      epochs = training_epochs,\n",
        "                      verbose = 2,\n",
        "                      validation_data=(X_cv, y_cv))"
      ],
      "metadata": {
        "colab": {
          "base_uri": "https://localhost:8080/"
        },
        "id": "pz4wKOjQGVkQ",
        "outputId": "eeb09764-9668-4d75-fbcc-fb0e839f73cf"
      },
      "execution_count": null,
      "outputs": [
        {
          "output_type": "stream",
          "name": "stdout",
          "text": [
            "Epoch 1/20\n",
            "336/336 - 3s - loss: 0.3139 - accuracy: 0.9094 - val_loss: 0.1585 - val_accuracy: 0.9539 - 3s/epoch - 8ms/step\n",
            "Epoch 2/20\n",
            "336/336 - 2s - loss: 0.1203 - accuracy: 0.9647 - val_loss: 0.1145 - val_accuracy: 0.9640 - 2s/epoch - 7ms/step\n",
            "Epoch 3/20\n",
            "336/336 - 2s - loss: 0.0760 - accuracy: 0.9769 - val_loss: 0.0971 - val_accuracy: 0.9712 - 2s/epoch - 6ms/step\n",
            "Epoch 4/20\n",
            "336/336 - 2s - loss: 0.0527 - accuracy: 0.9837 - val_loss: 0.1025 - val_accuracy: 0.9694 - 2s/epoch - 7ms/step\n",
            "Epoch 5/20\n",
            "336/336 - 2s - loss: 0.0366 - accuracy: 0.9885 - val_loss: 0.0965 - val_accuracy: 0.9730 - 2s/epoch - 6ms/step\n",
            "Epoch 6/20\n",
            "336/336 - 2s - loss: 0.0274 - accuracy: 0.9917 - val_loss: 0.1047 - val_accuracy: 0.9706 - 2s/epoch - 7ms/step\n",
            "Epoch 7/20\n",
            "336/336 - 2s - loss: 0.0247 - accuracy: 0.9921 - val_loss: 0.1061 - val_accuracy: 0.9719 - 2s/epoch - 7ms/step\n",
            "Epoch 8/20\n",
            "336/336 - 2s - loss: 0.0150 - accuracy: 0.9949 - val_loss: 0.1093 - val_accuracy: 0.9726 - 2s/epoch - 7ms/step\n",
            "Epoch 9/20\n",
            "336/336 - 2s - loss: 0.0117 - accuracy: 0.9964 - val_loss: 0.0951 - val_accuracy: 0.9770 - 2s/epoch - 7ms/step\n",
            "Epoch 10/20\n",
            "336/336 - 2s - loss: 0.0109 - accuracy: 0.9967 - val_loss: 0.1003 - val_accuracy: 0.9765 - 2s/epoch - 7ms/step\n",
            "Epoch 11/20\n",
            "336/336 - 3s - loss: 0.0138 - accuracy: 0.9955 - val_loss: 0.0966 - val_accuracy: 0.9774 - 3s/epoch - 9ms/step\n",
            "Epoch 12/20\n",
            "336/336 - 3s - loss: 0.0160 - accuracy: 0.9941 - val_loss: 0.1155 - val_accuracy: 0.9739 - 3s/epoch - 10ms/step\n",
            "Epoch 13/20\n",
            "336/336 - 2s - loss: 0.0094 - accuracy: 0.9971 - val_loss: 0.1076 - val_accuracy: 0.9769 - 2s/epoch - 7ms/step\n",
            "Epoch 14/20\n",
            "336/336 - 2s - loss: 0.0100 - accuracy: 0.9967 - val_loss: 0.1309 - val_accuracy: 0.9723 - 2s/epoch - 7ms/step\n",
            "Epoch 15/20\n",
            "336/336 - 2s - loss: 0.0099 - accuracy: 0.9967 - val_loss: 0.1147 - val_accuracy: 0.9760 - 2s/epoch - 7ms/step\n",
            "Epoch 16/20\n",
            "336/336 - 2s - loss: 0.0050 - accuracy: 0.9985 - val_loss: 0.1118 - val_accuracy: 0.9779 - 2s/epoch - 7ms/step\n",
            "Epoch 17/20\n",
            "336/336 - 2s - loss: 0.0115 - accuracy: 0.9964 - val_loss: 0.1384 - val_accuracy: 0.9737 - 2s/epoch - 7ms/step\n",
            "Epoch 18/20\n",
            "336/336 - 2s - loss: 0.0099 - accuracy: 0.9965 - val_loss: 0.1321 - val_accuracy: 0.9746 - 2s/epoch - 7ms/step\n",
            "Epoch 19/20\n",
            "336/336 - 2s - loss: 0.0055 - accuracy: 0.9982 - val_loss: 0.1007 - val_accuracy: 0.9808 - 2s/epoch - 7ms/step\n",
            "Epoch 20/20\n",
            "336/336 - 2s - loss: 0.0038 - accuracy: 0.9988 - val_loss: 0.1068 - val_accuracy: 0.9808 - 2s/epoch - 7ms/step\n"
          ]
        }
      ]
    },
    {
      "cell_type": "code",
      "source": [
        "#As it turns out, it does appear to be the case that the optimizer plays a crucial part in the validation score. \n",
        "#In particular, the model which relies on 'Adam' as its optimizer tend to perform 1.5 - 2.5% better on average. \n",
        "#Going forward, we will use 'Adam' as our optimizer of choice.\n",
        "\n",
        "#What if we changed the learning rate from 0.1 to 0.01, or 0.5? Will it have any impact on the accuracy? Model 2A"
      ],
      "metadata": {
        "id": "nIKuNVMBGbvR"
      },
      "execution_count": null,
      "outputs": []
    },
    {
      "cell_type": "code",
      "source": [
        "Inp = Input(shape=(784,))\n",
        "x = Dense(n_hidden_1, activation='relu', name = \"Hidden_Layer_1\")(Inp)\n",
        "x = Dense(n_hidden_2, activation='relu', name = \"Hidden_Layer_2\")(x)\n",
        "output = Dense(num_digits, activation='softmax', name = \"Output_Layer\")(x)\n",
        "\n",
        "learning_rate = 0.01\n",
        "adam = keras.optimizers.Adam(lr=learning_rate)\n",
        "model2a = Model(Inp, output)\n",
        "\n",
        "model2a.compile(loss='categorical_crossentropy',\n",
        "              optimizer='adam',\n",
        "              metrics=['accuracy'])"
      ],
      "metadata": {
        "id": "bRrHOgp4IMtM"
      },
      "execution_count": null,
      "outputs": []
    },
    {
      "cell_type": "code",
      "source": [
        "history2a = model2a.fit(X_train, y_train,\n",
        "                        batch_size = batch_size,\n",
        "                        epochs = training_epochs,\n",
        "                        verbose = 2,\n",
        "                        validation_data=(X_cv, y_cv))"
      ],
      "metadata": {
        "colab": {
          "base_uri": "https://localhost:8080/"
        },
        "id": "J1cehnpHIYFL",
        "outputId": "166e18df-4815-485b-d9e9-4089f508f759"
      },
      "execution_count": null,
      "outputs": [
        {
          "output_type": "stream",
          "name": "stdout",
          "text": [
            "Epoch 1/20\n",
            "336/336 - 3s - loss: 0.3137 - accuracy: 0.9097 - val_loss: 0.1600 - val_accuracy: 0.9545 - 3s/epoch - 9ms/step\n",
            "Epoch 2/20\n",
            "336/336 - 2s - loss: 0.1205 - accuracy: 0.9630 - val_loss: 0.1033 - val_accuracy: 0.9688 - 2s/epoch - 6ms/step\n",
            "Epoch 3/20\n",
            "336/336 - 2s - loss: 0.0763 - accuracy: 0.9770 - val_loss: 0.1031 - val_accuracy: 0.9667 - 2s/epoch - 6ms/step\n",
            "Epoch 4/20\n",
            "336/336 - 2s - loss: 0.0553 - accuracy: 0.9829 - val_loss: 0.0881 - val_accuracy: 0.9720 - 2s/epoch - 7ms/step\n",
            "Epoch 5/20\n",
            "336/336 - 2s - loss: 0.0404 - accuracy: 0.9874 - val_loss: 0.0971 - val_accuracy: 0.9717 - 2s/epoch - 6ms/step\n",
            "Epoch 6/20\n",
            "336/336 - 2s - loss: 0.0266 - accuracy: 0.9917 - val_loss: 0.0843 - val_accuracy: 0.9760 - 2s/epoch - 7ms/step\n",
            "Epoch 7/20\n",
            "336/336 - 2s - loss: 0.0214 - accuracy: 0.9934 - val_loss: 0.0814 - val_accuracy: 0.9757 - 2s/epoch - 7ms/step\n",
            "Epoch 8/20\n",
            "336/336 - 3s - loss: 0.0186 - accuracy: 0.9939 - val_loss: 0.1060 - val_accuracy: 0.9718 - 3s/epoch - 8ms/step\n",
            "Epoch 9/20\n",
            "336/336 - 3s - loss: 0.0152 - accuracy: 0.9948 - val_loss: 0.1106 - val_accuracy: 0.9715 - 3s/epoch - 8ms/step\n",
            "Epoch 10/20\n",
            "336/336 - 2s - loss: 0.0173 - accuracy: 0.9943 - val_loss: 0.1001 - val_accuracy: 0.9765 - 2s/epoch - 7ms/step\n",
            "Epoch 11/20\n",
            "336/336 - 2s - loss: 0.0133 - accuracy: 0.9954 - val_loss: 0.1133 - val_accuracy: 0.9733 - 2s/epoch - 7ms/step\n",
            "Epoch 12/20\n",
            "336/336 - 2s - loss: 0.0092 - accuracy: 0.9971 - val_loss: 0.1109 - val_accuracy: 0.9746 - 2s/epoch - 7ms/step\n",
            "Epoch 13/20\n",
            "336/336 - 2s - loss: 0.0039 - accuracy: 0.9989 - val_loss: 0.0916 - val_accuracy: 0.9807 - 2s/epoch - 7ms/step\n",
            "Epoch 14/20\n",
            "336/336 - 2s - loss: 0.0049 - accuracy: 0.9983 - val_loss: 0.1273 - val_accuracy: 0.9726 - 2s/epoch - 7ms/step\n",
            "Epoch 15/20\n",
            "336/336 - 2s - loss: 0.0185 - accuracy: 0.9939 - val_loss: 0.1077 - val_accuracy: 0.9752 - 2s/epoch - 7ms/step\n",
            "Epoch 16/20\n",
            "336/336 - 2s - loss: 0.0130 - accuracy: 0.9954 - val_loss: 0.1083 - val_accuracy: 0.9758 - 2s/epoch - 7ms/step\n",
            "Epoch 17/20\n",
            "336/336 - 2s - loss: 0.0059 - accuracy: 0.9982 - val_loss: 0.1120 - val_accuracy: 0.9787 - 2s/epoch - 7ms/step\n",
            "Epoch 18/20\n",
            "336/336 - 2s - loss: 0.0038 - accuracy: 0.9988 - val_loss: 0.1129 - val_accuracy: 0.9783 - 2s/epoch - 7ms/step\n",
            "Epoch 19/20\n",
            "336/336 - 2s - loss: 0.0058 - accuracy: 0.9979 - val_loss: 0.1457 - val_accuracy: 0.9735 - 2s/epoch - 7ms/step\n",
            "Epoch 20/20\n",
            "336/336 - 2s - loss: 0.0146 - accuracy: 0.9954 - val_loss: 0.1352 - val_accuracy: 0.9743 - 2s/epoch - 7ms/step\n"
          ]
        }
      ]
    },
    {
      "cell_type": "code",
      "source": [
        "#Model 2B"
      ],
      "metadata": {
        "id": "q_N__BI9Ikeb"
      },
      "execution_count": null,
      "outputs": []
    },
    {
      "cell_type": "code",
      "source": [
        "Inp = Input(shape=(784,))\n",
        "x = Dense(n_hidden_1, activation='relu', name = \"Hidden_Layer_1\")(Inp)\n",
        "x = Dense(n_hidden_2, activation='relu', name = \"Hidden_Layer_2\")(x)\n",
        "output = Dense(num_digits, activation='softmax', name = \"Output_Layer\")(x)\n",
        "\n",
        "learning_rate = 0.5\n",
        "adam = keras.optimizers.Adam(lr=learning_rate)\n",
        "model2b = Model(Inp, output)\n",
        "\n",
        "model2b.compile(loss='categorical_crossentropy',\n",
        "              optimizer='adam',\n",
        "              metrics=['accuracy'])"
      ],
      "metadata": {
        "id": "MsgKgeivI4AQ"
      },
      "execution_count": null,
      "outputs": []
    },
    {
      "cell_type": "code",
      "source": [
        "history2b = model2b.fit(X_train, y_train,\n",
        "                        batch_size = batch_size,\n",
        "                        epochs = training_epochs,\n",
        "                            validation_data=(X_cv, y_cv))"
      ],
      "metadata": {
        "colab": {
          "base_uri": "https://localhost:8080/"
        },
        "id": "JZPx6ocRI_gK",
        "outputId": "bb59a57a-ffa4-413f-fa76-328ceee8be44"
      },
      "execution_count": null,
      "outputs": [
        {
          "output_type": "stream",
          "name": "stdout",
          "text": [
            "Epoch 1/20\n",
            "336/336 [==============================] - 3s 8ms/step - loss: 0.3201 - accuracy: 0.9078 - val_loss: 0.1494 - val_accuracy: 0.9570\n",
            "Epoch 2/20\n",
            "336/336 [==============================] - 3s 8ms/step - loss: 0.1177 - accuracy: 0.9641 - val_loss: 0.1185 - val_accuracy: 0.9655\n",
            "Epoch 3/20\n",
            "336/336 [==============================] - 3s 8ms/step - loss: 0.0757 - accuracy: 0.9766 - val_loss: 0.0986 - val_accuracy: 0.9696\n",
            "Epoch 4/20\n",
            "336/336 [==============================] - 3s 8ms/step - loss: 0.0547 - accuracy: 0.9822 - val_loss: 0.0932 - val_accuracy: 0.9711\n",
            "Epoch 5/20\n",
            "336/336 [==============================] - 3s 8ms/step - loss: 0.0368 - accuracy: 0.9885 - val_loss: 0.0914 - val_accuracy: 0.9739\n",
            "Epoch 6/20\n",
            "336/336 [==============================] - 3s 8ms/step - loss: 0.0292 - accuracy: 0.9911 - val_loss: 0.0941 - val_accuracy: 0.9732\n",
            "Epoch 7/20\n",
            "336/336 [==============================] - 3s 8ms/step - loss: 0.0211 - accuracy: 0.9934 - val_loss: 0.0979 - val_accuracy: 0.9733\n",
            "Epoch 8/20\n",
            "336/336 [==============================] - 3s 8ms/step - loss: 0.0155 - accuracy: 0.9954 - val_loss: 0.1149 - val_accuracy: 0.9705\n",
            "Epoch 9/20\n",
            "336/336 [==============================] - 3s 8ms/step - loss: 0.0120 - accuracy: 0.9965 - val_loss: 0.0992 - val_accuracy: 0.9754\n",
            "Epoch 10/20\n",
            "336/336 [==============================] - 3s 8ms/step - loss: 0.0153 - accuracy: 0.9946 - val_loss: 0.1066 - val_accuracy: 0.9746\n",
            "Epoch 11/20\n",
            "336/336 [==============================] - 3s 8ms/step - loss: 0.0137 - accuracy: 0.9953 - val_loss: 0.1045 - val_accuracy: 0.9760\n",
            "Epoch 12/20\n",
            "336/336 [==============================] - 3s 8ms/step - loss: 0.0091 - accuracy: 0.9971 - val_loss: 0.1210 - val_accuracy: 0.9749\n",
            "Epoch 13/20\n",
            "336/336 [==============================] - 3s 8ms/step - loss: 0.0089 - accuracy: 0.9970 - val_loss: 0.1109 - val_accuracy: 0.9762\n",
            "Epoch 14/20\n",
            "336/336 [==============================] - 3s 8ms/step - loss: 0.0072 - accuracy: 0.9975 - val_loss: 0.1242 - val_accuracy: 0.9739\n",
            "Epoch 15/20\n",
            "336/336 [==============================] - 3s 8ms/step - loss: 0.0156 - accuracy: 0.9948 - val_loss: 0.1055 - val_accuracy: 0.9781\n",
            "Epoch 16/20\n",
            "336/336 [==============================] - 3s 7ms/step - loss: 0.0085 - accuracy: 0.9969 - val_loss: 0.1142 - val_accuracy: 0.9774\n",
            "Epoch 17/20\n",
            "336/336 [==============================] - 3s 8ms/step - loss: 0.0144 - accuracy: 0.9954 - val_loss: 0.1180 - val_accuracy: 0.9757\n",
            "Epoch 18/20\n",
            "336/336 [==============================] - 3s 8ms/step - loss: 0.0039 - accuracy: 0.9989 - val_loss: 0.1048 - val_accuracy: 0.9796\n",
            "Epoch 19/20\n",
            "336/336 [==============================] - 3s 8ms/step - loss: 0.0028 - accuracy: 0.9992 - val_loss: 0.1158 - val_accuracy: 0.9789\n",
            "Epoch 20/20\n",
            "336/336 [==============================] - 3s 8ms/step - loss: 0.0077 - accuracy: 0.9976 - val_loss: 0.1380 - val_accuracy: 0.9761\n"
          ]
        }
      ]
    },
    {
      "cell_type": "code",
      "source": [
        "#The accuracy, as measured by the 3 different learning rates 0.01, 0.1 and 0.5 are around 98%, 97% and 98% respectively.\n",
        "#As there are no considerable gains by changing the learning rates, we stick with the default learning rate of 0.01.\n",
        "\n",
        "#We proceed to fit a neural network with 5 hidden layers with the features in the hidden layer set as (300, 100, 100, 100, 200) respectively. \n",
        "#To ensure that the two models are comparable, we will set the training epochs as 20, and the training batch size as 100."
      ],
      "metadata": {
        "id": "ZEakA9SMJFNm"
      },
      "execution_count": null,
      "outputs": []
    },
    {
      "cell_type": "code",
      "source": [
        "# Input Parameters\n",
        "n_input = 784 # number of features\n",
        "n_hidden_1 = 300\n",
        "n_hidden_2 = 100\n",
        "n_hidden_3 = 100\n",
        "n_hidden_4 = 100\n",
        "n_hidden_5 = 200\n",
        "num_digits = 10"
      ],
      "metadata": {
        "id": "YHqroMsGJeGe"
      },
      "execution_count": null,
      "outputs": []
    },
    {
      "cell_type": "code",
      "source": [
        "Inp = Input(shape=(784,))\n",
        "x = Dense(n_hidden_1, activation='relu', name = \"Hidden_Layer_1\")(Inp)\n",
        "x = Dense(n_hidden_2, activation='relu', name = \"Hidden_Layer_2\")(x)\n",
        "x = Dense(n_hidden_3, activation='relu', name = \"Hidden_Layer_3\")(x)\n",
        "x = Dense(n_hidden_4, activation='relu', name = \"Hidden_Layer_4\")(x)\n",
        "x = Dense(n_hidden_5, activation='relu', name = \"Hidden_Layer_5\")(x)\n",
        "output = Dense(num_digits, activation='softmax', name = \"Output_Layer\")(x)"
      ],
      "metadata": {
        "id": "JGAYreXAJjVj"
      },
      "execution_count": null,
      "outputs": []
    },
    {
      "cell_type": "code",
      "source": [
        "# Our model would have '7' layers - input layer, 5 hidden layer and 1 output layer\n",
        "model3 = Model(Inp, output)\n",
        "model3.summary() # We have 308,010 parameters to estimate"
      ],
      "metadata": {
        "colab": {
          "base_uri": "https://localhost:8080/"
        },
        "id": "Qq_QGDZvJmY_",
        "outputId": "dcbfc181-eac5-426f-9c19-cb03446995ed"
      },
      "execution_count": null,
      "outputs": [
        {
          "output_type": "stream",
          "name": "stdout",
          "text": [
            "Model: \"model_10\"\n",
            "_________________________________________________________________\n",
            " Layer (type)                Output Shape              Param #   \n",
            "=================================================================\n",
            " input_11 (InputLayer)       [(None, 784)]             0         \n",
            "                                                                 \n",
            " Hidden_Layer_1 (Dense)      (None, 300)               235500    \n",
            "                                                                 \n",
            " Hidden_Layer_2 (Dense)      (None, 100)               30100     \n",
            "                                                                 \n",
            " Hidden_Layer_3 (Dense)      (None, 100)               10100     \n",
            "                                                                 \n",
            " Hidden_Layer_4 (Dense)      (None, 100)               10100     \n",
            "                                                                 \n",
            " Hidden_Layer_5 (Dense)      (None, 200)               20200     \n",
            "                                                                 \n",
            " Output_Layer (Dense)        (None, 10)                2010      \n",
            "                                                                 \n",
            "=================================================================\n",
            "Total params: 308,010\n",
            "Trainable params: 308,010\n",
            "Non-trainable params: 0\n",
            "_________________________________________________________________\n"
          ]
        }
      ]
    },
    {
      "cell_type": "code",
      "source": [
        "# We rely on 'Adam' as our optimizing methodology\n",
        "adam = keras.optimizers.Adam(lr=0.01)\n",
        "\n",
        "model3.compile(loss='categorical_crossentropy',\n",
        "              optimizer='adam',\n",
        "              metrics=['accuracy'])"
      ],
      "metadata": {
        "id": "0Tc1CPNVJtFc"
      },
      "execution_count": null,
      "outputs": []
    },
    {
      "cell_type": "code",
      "source": [
        "history3 = model3.fit(X_train, y_train,\n",
        "                      batch_size = batch_size,\n",
        "                      epochs = training_epochs,\n",
        "                      validation_data=(X_cv, y_cv))"
      ],
      "metadata": {
        "colab": {
          "base_uri": "https://localhost:8080/"
        },
        "id": "78r7AbPSJ7GM",
        "outputId": "a2a779c6-55c3-4022-e98a-7432b1c54c76"
      },
      "execution_count": null,
      "outputs": [
        {
          "output_type": "stream",
          "name": "stdout",
          "text": [
            "Epoch 1/20\n",
            "336/336 [==============================] - 4s 10ms/step - loss: 0.3680 - accuracy: 0.8857 - val_loss: 0.1636 - val_accuracy: 0.9513\n",
            "Epoch 2/20\n",
            "336/336 [==============================] - 3s 9ms/step - loss: 0.1328 - accuracy: 0.9603 - val_loss: 0.1153 - val_accuracy: 0.9652\n",
            "Epoch 3/20\n",
            "336/336 [==============================] - 3s 9ms/step - loss: 0.0865 - accuracy: 0.9732 - val_loss: 0.1194 - val_accuracy: 0.9649\n",
            "Epoch 4/20\n",
            "336/336 [==============================] - 3s 9ms/step - loss: 0.0680 - accuracy: 0.9780 - val_loss: 0.1110 - val_accuracy: 0.9705\n",
            "Epoch 5/20\n",
            "336/336 [==============================] - 3s 9ms/step - loss: 0.0496 - accuracy: 0.9845 - val_loss: 0.0978 - val_accuracy: 0.9713\n",
            "Epoch 6/20\n",
            "336/336 [==============================] - 3s 9ms/step - loss: 0.0413 - accuracy: 0.9874 - val_loss: 0.0929 - val_accuracy: 0.9754\n",
            "Epoch 7/20\n",
            "336/336 [==============================] - 3s 9ms/step - loss: 0.0350 - accuracy: 0.9887 - val_loss: 0.1003 - val_accuracy: 0.9742\n",
            "Epoch 8/20\n",
            "336/336 [==============================] - 3s 9ms/step - loss: 0.0298 - accuracy: 0.9907 - val_loss: 0.1131 - val_accuracy: 0.9713\n",
            "Epoch 9/20\n",
            "336/336 [==============================] - 3s 9ms/step - loss: 0.0274 - accuracy: 0.9910 - val_loss: 0.1066 - val_accuracy: 0.9743\n",
            "Epoch 10/20\n",
            "336/336 [==============================] - 3s 9ms/step - loss: 0.0272 - accuracy: 0.9915 - val_loss: 0.1202 - val_accuracy: 0.9717\n",
            "Epoch 11/20\n",
            "336/336 [==============================] - 3s 9ms/step - loss: 0.0204 - accuracy: 0.9936 - val_loss: 0.1098 - val_accuracy: 0.9732\n",
            "Epoch 12/20\n",
            "336/336 [==============================] - 3s 9ms/step - loss: 0.0181 - accuracy: 0.9940 - val_loss: 0.1161 - val_accuracy: 0.9754\n",
            "Epoch 13/20\n",
            "336/336 [==============================] - 3s 9ms/step - loss: 0.0251 - accuracy: 0.9926 - val_loss: 0.1148 - val_accuracy: 0.9757\n",
            "Epoch 14/20\n",
            "336/336 [==============================] - 3s 9ms/step - loss: 0.0203 - accuracy: 0.9941 - val_loss: 0.1025 - val_accuracy: 0.9775\n",
            "Epoch 15/20\n",
            "336/336 [==============================] - 3s 9ms/step - loss: 0.0119 - accuracy: 0.9961 - val_loss: 0.1488 - val_accuracy: 0.9721\n",
            "Epoch 16/20\n",
            "336/336 [==============================] - 3s 9ms/step - loss: 0.0193 - accuracy: 0.9940 - val_loss: 0.1153 - val_accuracy: 0.9781\n",
            "Epoch 17/20\n",
            "336/336 [==============================] - 3s 9ms/step - loss: 0.0122 - accuracy: 0.9965 - val_loss: 0.1247 - val_accuracy: 0.9767\n",
            "Epoch 18/20\n",
            "336/336 [==============================] - 3s 9ms/step - loss: 0.0212 - accuracy: 0.9933 - val_loss: 0.1257 - val_accuracy: 0.9739\n",
            "Epoch 19/20\n",
            "336/336 [==============================] - 3s 9ms/step - loss: 0.0095 - accuracy: 0.9970 - val_loss: 0.1366 - val_accuracy: 0.9702\n",
            "Epoch 20/20\n",
            "336/336 [==============================] - 3s 9ms/step - loss: 0.0136 - accuracy: 0.9959 - val_loss: 0.1278 - val_accuracy: 0.9749\n"
          ]
        }
      ]
    },
    {
      "cell_type": "code",
      "source": [
        "#Compared to our first model, adding an additional layer did not significantly improve the accuracy from our previous model. \n",
        "#However, there are computational costs (in terms of complexity) in implementing an additional layer in our neural network. \n",
        "#Given that the benefits of an additional layer are low while the costs are high, we will stick with the 4 layer neural network.\n",
        "\n",
        "#We now proceed to include dropout (dropout rate of 0.3) in our second model to prevent overfitting."
      ],
      "metadata": {
        "id": "ngOiJrFSJ_Lu"
      },
      "execution_count": null,
      "outputs": []
    },
    {
      "cell_type": "code",
      "source": [
        "# Input Parameters\n",
        "n_input = 784 # number of features\n",
        "n_hidden_1 = 300\n",
        "n_hidden_2 = 100\n",
        "num_digits = 10"
      ],
      "metadata": {
        "id": "nTT79o2-NFDv"
      },
      "execution_count": null,
      "outputs": []
    },
    {
      "cell_type": "code",
      "source": [
        "Inp = Input(shape=(784,))\n",
        "x = Dense(n_hidden_1, activation='relu', name = \"Hidden_Layer_1\")(Inp)\n",
        "x = Dropout(0.3)(x)\n",
        "x = Dense(n_hidden_2, activation='relu', name = \"Hidden_Layer_2\")(x)\n",
        "output = Dense(num_digits, activation='softmax', name = \"Output_Layer\")(x)"
      ],
      "metadata": {
        "id": "qD6Gvd09NMWr"
      },
      "execution_count": null,
      "outputs": []
    },
    {
      "cell_type": "code",
      "source": [
        "# Our model would have '4' layers - input layer, 2 hidden layer and 1 output layer\n",
        "model4 = Model(Inp, output)\n",
        "model4.summary() # We have 297,910 parameters to estimate"
      ],
      "metadata": {
        "colab": {
          "base_uri": "https://localhost:8080/"
        },
        "id": "JnEFtnYANhSW",
        "outputId": "56444f08-1e73-4c2a-9622-9cafe972befc"
      },
      "execution_count": null,
      "outputs": [
        {
          "output_type": "stream",
          "name": "stdout",
          "text": [
            "Model: \"model_11\"\n",
            "_________________________________________________________________\n",
            " Layer (type)                Output Shape              Param #   \n",
            "=================================================================\n",
            " input_12 (InputLayer)       [(None, 784)]             0         \n",
            "                                                                 \n",
            " Hidden_Layer_1 (Dense)      (None, 300)               235500    \n",
            "                                                                 \n",
            " dropout_1 (Dropout)         (None, 300)               0         \n",
            "                                                                 \n",
            " Hidden_Layer_2 (Dense)      (None, 100)               30100     \n",
            "                                                                 \n",
            " Output_Layer (Dense)        (None, 10)                1010      \n",
            "                                                                 \n",
            "=================================================================\n",
            "Total params: 266,610\n",
            "Trainable params: 266,610\n",
            "Non-trainable params: 0\n",
            "_________________________________________________________________\n"
          ]
        }
      ]
    },
    {
      "cell_type": "code",
      "source": [
        "model4.compile(loss='categorical_crossentropy',\n",
        "              optimizer='adam',\n",
        "              metrics=['accuracy'])"
      ],
      "metadata": {
        "id": "VqVaf1dJNmL9"
      },
      "execution_count": null,
      "outputs": []
    },
    {
      "cell_type": "code",
      "source": [
        "history = model4.fit(X_train, y_train,\n",
        "                    batch_size = batch_size,\n",
        "                    epochs = training_epochs,\n",
        "                    validation_data=(X_cv, y_cv))"
      ],
      "metadata": {
        "colab": {
          "base_uri": "https://localhost:8080/"
        },
        "id": "pPkU9huJNssz",
        "outputId": "4594deb8-cd8a-4296-c83e-54c998c81a97"
      },
      "execution_count": null,
      "outputs": [
        {
          "output_type": "stream",
          "name": "stdout",
          "text": [
            "Epoch 1/20\n",
            "336/336 [==============================] - 3s 8ms/step - loss: 0.3893 - accuracy: 0.8824 - val_loss: 0.1620 - val_accuracy: 0.9535\n",
            "Epoch 2/20\n",
            "336/336 [==============================] - 3s 8ms/step - loss: 0.1628 - accuracy: 0.9498 - val_loss: 0.1188 - val_accuracy: 0.9665\n",
            "Epoch 3/20\n",
            "336/336 [==============================] - 3s 8ms/step - loss: 0.1168 - accuracy: 0.9636 - val_loss: 0.1023 - val_accuracy: 0.9690\n",
            "Epoch 4/20\n",
            "336/336 [==============================] - 2s 7ms/step - loss: 0.0945 - accuracy: 0.9702 - val_loss: 0.0884 - val_accuracy: 0.9736\n",
            "Epoch 5/20\n",
            "336/336 [==============================] - 2s 7ms/step - loss: 0.0748 - accuracy: 0.9759 - val_loss: 0.0931 - val_accuracy: 0.9739\n",
            "Epoch 6/20\n",
            "336/336 [==============================] - 2s 7ms/step - loss: 0.0669 - accuracy: 0.9788 - val_loss: 0.0787 - val_accuracy: 0.9760\n",
            "Epoch 7/20\n",
            "336/336 [==============================] - 2s 7ms/step - loss: 0.0559 - accuracy: 0.9819 - val_loss: 0.0909 - val_accuracy: 0.9749\n",
            "Epoch 8/20\n",
            "336/336 [==============================] - 2s 7ms/step - loss: 0.0500 - accuracy: 0.9829 - val_loss: 0.0764 - val_accuracy: 0.9780\n",
            "Epoch 9/20\n",
            "336/336 [==============================] - 4s 11ms/step - loss: 0.0440 - accuracy: 0.9854 - val_loss: 0.0768 - val_accuracy: 0.9798\n",
            "Epoch 10/20\n",
            "336/336 [==============================] - 3s 9ms/step - loss: 0.0401 - accuracy: 0.9867 - val_loss: 0.0801 - val_accuracy: 0.9769\n",
            "Epoch 11/20\n",
            "336/336 [==============================] - 2s 7ms/step - loss: 0.0341 - accuracy: 0.9883 - val_loss: 0.0891 - val_accuracy: 0.9771\n",
            "Epoch 12/20\n",
            "336/336 [==============================] - 2s 7ms/step - loss: 0.0323 - accuracy: 0.9891 - val_loss: 0.0841 - val_accuracy: 0.9783\n",
            "Epoch 13/20\n",
            "336/336 [==============================] - 2s 7ms/step - loss: 0.0304 - accuracy: 0.9901 - val_loss: 0.0786 - val_accuracy: 0.9804\n",
            "Epoch 14/20\n",
            "336/336 [==============================] - 2s 7ms/step - loss: 0.0309 - accuracy: 0.9895 - val_loss: 0.0779 - val_accuracy: 0.9792\n",
            "Epoch 15/20\n",
            "336/336 [==============================] - 2s 7ms/step - loss: 0.0297 - accuracy: 0.9898 - val_loss: 0.0804 - val_accuracy: 0.9806\n",
            "Epoch 16/20\n",
            "336/336 [==============================] - 3s 8ms/step - loss: 0.0272 - accuracy: 0.9904 - val_loss: 0.0834 - val_accuracy: 0.9789\n",
            "Epoch 17/20\n",
            "336/336 [==============================] - 2s 7ms/step - loss: 0.0222 - accuracy: 0.9924 - val_loss: 0.0828 - val_accuracy: 0.9799\n",
            "Epoch 18/20\n",
            "336/336 [==============================] - 3s 7ms/step - loss: 0.0236 - accuracy: 0.9921 - val_loss: 0.0775 - val_accuracy: 0.9810\n",
            "Epoch 19/20\n",
            "336/336 [==============================] - 2s 7ms/step - loss: 0.0233 - accuracy: 0.9916 - val_loss: 0.0796 - val_accuracy: 0.9811\n",
            "Epoch 20/20\n",
            "336/336 [==============================] - 2s 7ms/step - loss: 0.0228 - accuracy: 0.9919 - val_loss: 0.0839 - val_accuracy: 0.9800\n"
          ]
        }
      ]
    },
    {
      "cell_type": "code",
      "source": [
        "#With a validation score of close to 99%, we proceed to use this model to predict for the test set."
      ],
      "metadata": {
        "id": "o-BP5uaENv8V"
      },
      "execution_count": null,
      "outputs": []
    },
    {
      "cell_type": "code",
      "source": [
        "test_pred = pd.DataFrame(model4.predict(X_test, batch_size=200))\n",
        "test_pred = pd.DataFrame(test_pred.idxmax(axis = 1))\n",
        "test_pred.index.name = 'ImageId'\n",
        "test_pred = test_pred.rename(columns = {0: 'Label'}).reset_index()\n",
        "test_pred['ImageId'] = test_pred['ImageId'] + 1\n",
        "\n",
        "test_pred.head()"
      ],
      "metadata": {
        "colab": {
          "base_uri": "https://localhost:8080/",
          "height": 287
        },
        "id": "aNc5Ea89OBqi",
        "outputId": "0d50d560-4d1a-43d0-f56c-8497e000ce11"
      },
      "execution_count": null,
      "outputs": [
        {
          "output_type": "stream",
          "name": "stdout",
          "text": [
            "140/140 [==============================] - 1s 4ms/step\n"
          ]
        },
        {
          "output_type": "execute_result",
          "data": {
            "text/plain": [
              "   ImageId  Label\n",
              "0        1      2\n",
              "1        2      0\n",
              "2        3      9\n",
              "3        4      9\n",
              "4        5      3"
            ],
            "text/html": [
              "\n",
              "  <div id=\"df-b6d3a9e6-2fa1-447e-bcf5-4a6a14039f24\">\n",
              "    <div class=\"colab-df-container\">\n",
              "      <div>\n",
              "<style scoped>\n",
              "    .dataframe tbody tr th:only-of-type {\n",
              "        vertical-align: middle;\n",
              "    }\n",
              "\n",
              "    .dataframe tbody tr th {\n",
              "        vertical-align: top;\n",
              "    }\n",
              "\n",
              "    .dataframe thead th {\n",
              "        text-align: right;\n",
              "    }\n",
              "</style>\n",
              "<table border=\"1\" class=\"dataframe\">\n",
              "  <thead>\n",
              "    <tr style=\"text-align: right;\">\n",
              "      <th></th>\n",
              "      <th>ImageId</th>\n",
              "      <th>Label</th>\n",
              "    </tr>\n",
              "  </thead>\n",
              "  <tbody>\n",
              "    <tr>\n",
              "      <th>0</th>\n",
              "      <td>1</td>\n",
              "      <td>2</td>\n",
              "    </tr>\n",
              "    <tr>\n",
              "      <th>1</th>\n",
              "      <td>2</td>\n",
              "      <td>0</td>\n",
              "    </tr>\n",
              "    <tr>\n",
              "      <th>2</th>\n",
              "      <td>3</td>\n",
              "      <td>9</td>\n",
              "    </tr>\n",
              "    <tr>\n",
              "      <th>3</th>\n",
              "      <td>4</td>\n",
              "      <td>9</td>\n",
              "    </tr>\n",
              "    <tr>\n",
              "      <th>4</th>\n",
              "      <td>5</td>\n",
              "      <td>3</td>\n",
              "    </tr>\n",
              "  </tbody>\n",
              "</table>\n",
              "</div>\n",
              "      <button class=\"colab-df-convert\" onclick=\"convertToInteractive('df-b6d3a9e6-2fa1-447e-bcf5-4a6a14039f24')\"\n",
              "              title=\"Convert this dataframe to an interactive table.\"\n",
              "              style=\"display:none;\">\n",
              "        \n",
              "  <svg xmlns=\"http://www.w3.org/2000/svg\" height=\"24px\"viewBox=\"0 0 24 24\"\n",
              "       width=\"24px\">\n",
              "    <path d=\"M0 0h24v24H0V0z\" fill=\"none\"/>\n",
              "    <path d=\"M18.56 5.44l.94 2.06.94-2.06 2.06-.94-2.06-.94-.94-2.06-.94 2.06-2.06.94zm-11 1L8.5 8.5l.94-2.06 2.06-.94-2.06-.94L8.5 2.5l-.94 2.06-2.06.94zm10 10l.94 2.06.94-2.06 2.06-.94-2.06-.94-.94-2.06-.94 2.06-2.06.94z\"/><path d=\"M17.41 7.96l-1.37-1.37c-.4-.4-.92-.59-1.43-.59-.52 0-1.04.2-1.43.59L10.3 9.45l-7.72 7.72c-.78.78-.78 2.05 0 2.83L4 21.41c.39.39.9.59 1.41.59.51 0 1.02-.2 1.41-.59l7.78-7.78 2.81-2.81c.8-.78.8-2.07 0-2.86zM5.41 20L4 18.59l7.72-7.72 1.47 1.35L5.41 20z\"/>\n",
              "  </svg>\n",
              "      </button>\n",
              "      \n",
              "  <style>\n",
              "    .colab-df-container {\n",
              "      display:flex;\n",
              "      flex-wrap:wrap;\n",
              "      gap: 12px;\n",
              "    }\n",
              "\n",
              "    .colab-df-convert {\n",
              "      background-color: #E8F0FE;\n",
              "      border: none;\n",
              "      border-radius: 50%;\n",
              "      cursor: pointer;\n",
              "      display: none;\n",
              "      fill: #1967D2;\n",
              "      height: 32px;\n",
              "      padding: 0 0 0 0;\n",
              "      width: 32px;\n",
              "    }\n",
              "\n",
              "    .colab-df-convert:hover {\n",
              "      background-color: #E2EBFA;\n",
              "      box-shadow: 0px 1px 2px rgba(60, 64, 67, 0.3), 0px 1px 3px 1px rgba(60, 64, 67, 0.15);\n",
              "      fill: #174EA6;\n",
              "    }\n",
              "\n",
              "    [theme=dark] .colab-df-convert {\n",
              "      background-color: #3B4455;\n",
              "      fill: #D2E3FC;\n",
              "    }\n",
              "\n",
              "    [theme=dark] .colab-df-convert:hover {\n",
              "      background-color: #434B5C;\n",
              "      box-shadow: 0px 1px 3px 1px rgba(0, 0, 0, 0.15);\n",
              "      filter: drop-shadow(0px 1px 2px rgba(0, 0, 0, 0.3));\n",
              "      fill: #FFFFFF;\n",
              "    }\n",
              "  </style>\n",
              "\n",
              "      <script>\n",
              "        const buttonEl =\n",
              "          document.querySelector('#df-b6d3a9e6-2fa1-447e-bcf5-4a6a14039f24 button.colab-df-convert');\n",
              "        buttonEl.style.display =\n",
              "          google.colab.kernel.accessAllowed ? 'block' : 'none';\n",
              "\n",
              "        async function convertToInteractive(key) {\n",
              "          const element = document.querySelector('#df-b6d3a9e6-2fa1-447e-bcf5-4a6a14039f24');\n",
              "          const dataTable =\n",
              "            await google.colab.kernel.invokeFunction('convertToInteractive',\n",
              "                                                     [key], {});\n",
              "          if (!dataTable) return;\n",
              "\n",
              "          const docLinkHtml = 'Like what you see? Visit the ' +\n",
              "            '<a target=\"_blank\" href=https://colab.research.google.com/notebooks/data_table.ipynb>data table notebook</a>'\n",
              "            + ' to learn more about interactive tables.';\n",
              "          element.innerHTML = '';\n",
              "          dataTable['output_type'] = 'display_data';\n",
              "          await google.colab.output.renderOutput(dataTable, element);\n",
              "          const docLink = document.createElement('div');\n",
              "          docLink.innerHTML = docLinkHtml;\n",
              "          element.appendChild(docLink);\n",
              "        }\n",
              "      </script>\n",
              "    </div>\n",
              "  </div>\n",
              "  "
            ]
          },
          "metadata": {},
          "execution_count": 78
        }
      ]
    },
    {
      "cell_type": "code",
      "source": [
        "test_pred.to_csv('mnist_submission.csv', index = False)"
      ],
      "metadata": {
        "id": "LsbQ6FDSOGEo"
      },
      "execution_count": null,
      "outputs": []
    },
    {
      "cell_type": "code",
      "source": [
        "#Using this model, we are able to achieve a score of 0.976."
      ],
      "metadata": {
        "id": "UXhhWzdQOP9z"
      },
      "execution_count": null,
      "outputs": []
    },
    {
      "cell_type": "code",
      "source": [],
      "metadata": {
        "id": "Ky9q7SpMOZKi"
      },
      "execution_count": null,
      "outputs": []
    }
  ]
}