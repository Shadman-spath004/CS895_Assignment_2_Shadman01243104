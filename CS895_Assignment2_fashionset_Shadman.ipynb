{
  "nbformat": 4,
  "nbformat_minor": 0,
  "metadata": {
    "colab": {
      "provenance": [],
      "mount_file_id": "1D8Ygtyf5MeZzeRoQhbjMCSL_rqpPGf6k",
      "authorship_tag": "ABX9TyP2M868ueXaCAIXinTqKdiE",
      "include_colab_link": true
    },
    "kernelspec": {
      "name": "python3",
      "display_name": "Python 3"
    },
    "language_info": {
      "name": "python"
    },
    "accelerator": "GPU",
    "gpuClass": "standard"
  },
  "cells": [
    {
      "cell_type": "markdown",
      "metadata": {
        "id": "view-in-github",
        "colab_type": "text"
      },
      "source": [
        "<a href=\"https://colab.research.google.com/github/Shadman-spath004/CS895_Assignment_2_Shadman01243104/blob/main/CS895_Assignment2_fashionset_Shadman.ipynb\" target=\"_parent\"><img src=\"https://colab.research.google.com/assets/colab-badge.svg\" alt=\"Open In Colab\"/></a>"
      ]
    },
    {
      "cell_type": "code",
      "source": [
        "!pip install keras-tuner --upgrade"
      ],
      "metadata": {
        "colab": {
          "base_uri": "https://localhost:8080/"
        },
        "id": "yKtRGbngjwra",
        "outputId": "9500053c-6520-481d-ac81-a7fb4c87ad2a"
      },
      "execution_count": null,
      "outputs": [
        {
          "output_type": "stream",
          "name": "stdout",
          "text": [
            "Looking in indexes: https://pypi.org/simple, https://us-python.pkg.dev/colab-wheels/public/simple/\n",
            "Collecting keras-tuner\n",
            "  Downloading keras_tuner-1.2.0-py3-none-any.whl (168 kB)\n",
            "\u001b[2K     \u001b[90m━━━━━━━━━━━━━━━━━━━━━━━━━━━━━━━━━━━━━━━\u001b[0m \u001b[32m168.1/168.1 KB\u001b[0m \u001b[31m3.8 MB/s\u001b[0m eta \u001b[36m0:00:00\u001b[0m\n",
            "\u001b[?25hRequirement already satisfied: packaging in /usr/local/lib/python3.8/dist-packages (from keras-tuner) (23.0)\n",
            "Collecting kt-legacy\n",
            "  Downloading kt_legacy-1.0.4-py3-none-any.whl (9.6 kB)\n",
            "Requirement already satisfied: tensorflow>=2.0 in /usr/local/lib/python3.8/dist-packages (from keras-tuner) (2.9.2)\n",
            "Requirement already satisfied: ipython in /usr/local/lib/python3.8/dist-packages (from keras-tuner) (7.9.0)\n",
            "Requirement already satisfied: requests in /usr/local/lib/python3.8/dist-packages (from keras-tuner) (2.25.1)\n",
            "Requirement already satisfied: numpy>=1.20 in /usr/local/lib/python3.8/dist-packages (from tensorflow>=2.0->keras-tuner) (1.21.6)\n",
            "Requirement already satisfied: opt-einsum>=2.3.2 in /usr/local/lib/python3.8/dist-packages (from tensorflow>=2.0->keras-tuner) (3.3.0)\n",
            "Requirement already satisfied: tensorboard<2.10,>=2.9 in /usr/local/lib/python3.8/dist-packages (from tensorflow>=2.0->keras-tuner) (2.9.1)\n",
            "Requirement already satisfied: flatbuffers<2,>=1.12 in /usr/local/lib/python3.8/dist-packages (from tensorflow>=2.0->keras-tuner) (1.12)\n",
            "Requirement already satisfied: wrapt>=1.11.0 in /usr/local/lib/python3.8/dist-packages (from tensorflow>=2.0->keras-tuner) (1.14.1)\n",
            "Requirement already satisfied: tensorflow-estimator<2.10.0,>=2.9.0rc0 in /usr/local/lib/python3.8/dist-packages (from tensorflow>=2.0->keras-tuner) (2.9.0)\n",
            "Requirement already satisfied: gast<=0.4.0,>=0.2.1 in /usr/local/lib/python3.8/dist-packages (from tensorflow>=2.0->keras-tuner) (0.4.0)\n",
            "Requirement already satisfied: tensorflow-io-gcs-filesystem>=0.23.1 in /usr/local/lib/python3.8/dist-packages (from tensorflow>=2.0->keras-tuner) (0.30.0)\n",
            "Requirement already satisfied: keras<2.10.0,>=2.9.0rc0 in /usr/local/lib/python3.8/dist-packages (from tensorflow>=2.0->keras-tuner) (2.9.0)\n",
            "Requirement already satisfied: libclang>=13.0.0 in /usr/local/lib/python3.8/dist-packages (from tensorflow>=2.0->keras-tuner) (15.0.6.1)\n",
            "Requirement already satisfied: absl-py>=1.0.0 in /usr/local/lib/python3.8/dist-packages (from tensorflow>=2.0->keras-tuner) (1.4.0)\n",
            "Requirement already satisfied: keras-preprocessing>=1.1.1 in /usr/local/lib/python3.8/dist-packages (from tensorflow>=2.0->keras-tuner) (1.1.2)\n",
            "Requirement already satisfied: google-pasta>=0.1.1 in /usr/local/lib/python3.8/dist-packages (from tensorflow>=2.0->keras-tuner) (0.2.0)\n",
            "Requirement already satisfied: typing-extensions>=3.6.6 in /usr/local/lib/python3.8/dist-packages (from tensorflow>=2.0->keras-tuner) (4.4.0)\n",
            "Requirement already satisfied: setuptools in /usr/local/lib/python3.8/dist-packages (from tensorflow>=2.0->keras-tuner) (57.4.0)\n",
            "Requirement already satisfied: six>=1.12.0 in /usr/local/lib/python3.8/dist-packages (from tensorflow>=2.0->keras-tuner) (1.15.0)\n",
            "Requirement already satisfied: protobuf<3.20,>=3.9.2 in /usr/local/lib/python3.8/dist-packages (from tensorflow>=2.0->keras-tuner) (3.19.6)\n",
            "Requirement already satisfied: termcolor>=1.1.0 in /usr/local/lib/python3.8/dist-packages (from tensorflow>=2.0->keras-tuner) (2.2.0)\n",
            "Requirement already satisfied: h5py>=2.9.0 in /usr/local/lib/python3.8/dist-packages (from tensorflow>=2.0->keras-tuner) (3.1.0)\n",
            "Requirement already satisfied: astunparse>=1.6.0 in /usr/local/lib/python3.8/dist-packages (from tensorflow>=2.0->keras-tuner) (1.6.3)\n",
            "Requirement already satisfied: grpcio<2.0,>=1.24.3 in /usr/local/lib/python3.8/dist-packages (from tensorflow>=2.0->keras-tuner) (1.51.1)\n",
            "Requirement already satisfied: pygments in /usr/local/lib/python3.8/dist-packages (from ipython->keras-tuner) (2.6.1)\n",
            "Requirement already satisfied: traitlets>=4.2 in /usr/local/lib/python3.8/dist-packages (from ipython->keras-tuner) (5.7.1)\n",
            "Requirement already satisfied: prompt-toolkit<2.1.0,>=2.0.0 in /usr/local/lib/python3.8/dist-packages (from ipython->keras-tuner) (2.0.10)\n",
            "Collecting jedi>=0.10\n",
            "  Downloading jedi-0.18.2-py2.py3-none-any.whl (1.6 MB)\n",
            "\u001b[2K     \u001b[90m━━━━━━━━━━━━━━━━━━━━━━━━━━━━━━━━━━━━━━━━\u001b[0m \u001b[32m1.6/1.6 MB\u001b[0m \u001b[31m19.6 MB/s\u001b[0m eta \u001b[36m0:00:00\u001b[0m\n",
            "\u001b[?25hRequirement already satisfied: decorator in /usr/local/lib/python3.8/dist-packages (from ipython->keras-tuner) (4.4.2)\n",
            "Requirement already satisfied: pexpect in /usr/local/lib/python3.8/dist-packages (from ipython->keras-tuner) (4.8.0)\n",
            "Requirement already satisfied: backcall in /usr/local/lib/python3.8/dist-packages (from ipython->keras-tuner) (0.2.0)\n",
            "Requirement already satisfied: pickleshare in /usr/local/lib/python3.8/dist-packages (from ipython->keras-tuner) (0.7.5)\n",
            "Requirement already satisfied: chardet<5,>=3.0.2 in /usr/local/lib/python3.8/dist-packages (from requests->keras-tuner) (4.0.0)\n",
            "Requirement already satisfied: urllib3<1.27,>=1.21.1 in /usr/local/lib/python3.8/dist-packages (from requests->keras-tuner) (1.24.3)\n",
            "Requirement already satisfied: certifi>=2017.4.17 in /usr/local/lib/python3.8/dist-packages (from requests->keras-tuner) (2022.12.7)\n",
            "Requirement already satisfied: idna<3,>=2.5 in /usr/local/lib/python3.8/dist-packages (from requests->keras-tuner) (2.10)\n",
            "Requirement already satisfied: wheel<1.0,>=0.23.0 in /usr/local/lib/python3.8/dist-packages (from astunparse>=1.6.0->tensorflow>=2.0->keras-tuner) (0.38.4)\n",
            "Requirement already satisfied: parso<0.9.0,>=0.8.0 in /usr/local/lib/python3.8/dist-packages (from jedi>=0.10->ipython->keras-tuner) (0.8.3)\n",
            "Requirement already satisfied: wcwidth in /usr/local/lib/python3.8/dist-packages (from prompt-toolkit<2.1.0,>=2.0.0->ipython->keras-tuner) (0.2.6)\n",
            "Requirement already satisfied: werkzeug>=1.0.1 in /usr/local/lib/python3.8/dist-packages (from tensorboard<2.10,>=2.9->tensorflow>=2.0->keras-tuner) (1.0.1)\n",
            "Requirement already satisfied: tensorboard-data-server<0.7.0,>=0.6.0 in /usr/local/lib/python3.8/dist-packages (from tensorboard<2.10,>=2.9->tensorflow>=2.0->keras-tuner) (0.6.1)\n",
            "Requirement already satisfied: markdown>=2.6.8 in /usr/local/lib/python3.8/dist-packages (from tensorboard<2.10,>=2.9->tensorflow>=2.0->keras-tuner) (3.4.1)\n",
            "Requirement already satisfied: tensorboard-plugin-wit>=1.6.0 in /usr/local/lib/python3.8/dist-packages (from tensorboard<2.10,>=2.9->tensorflow>=2.0->keras-tuner) (1.8.1)\n",
            "Requirement already satisfied: google-auth<3,>=1.6.3 in /usr/local/lib/python3.8/dist-packages (from tensorboard<2.10,>=2.9->tensorflow>=2.0->keras-tuner) (2.16.0)\n",
            "Requirement already satisfied: google-auth-oauthlib<0.5,>=0.4.1 in /usr/local/lib/python3.8/dist-packages (from tensorboard<2.10,>=2.9->tensorflow>=2.0->keras-tuner) (0.4.6)\n",
            "Requirement already satisfied: ptyprocess>=0.5 in /usr/local/lib/python3.8/dist-packages (from pexpect->ipython->keras-tuner) (0.7.0)\n",
            "Requirement already satisfied: pyasn1-modules>=0.2.1 in /usr/local/lib/python3.8/dist-packages (from google-auth<3,>=1.6.3->tensorboard<2.10,>=2.9->tensorflow>=2.0->keras-tuner) (0.2.8)\n",
            "Requirement already satisfied: cachetools<6.0,>=2.0.0 in /usr/local/lib/python3.8/dist-packages (from google-auth<3,>=1.6.3->tensorboard<2.10,>=2.9->tensorflow>=2.0->keras-tuner) (5.3.0)\n",
            "Requirement already satisfied: rsa<5,>=3.1.4 in /usr/local/lib/python3.8/dist-packages (from google-auth<3,>=1.6.3->tensorboard<2.10,>=2.9->tensorflow>=2.0->keras-tuner) (4.9)\n",
            "Requirement already satisfied: requests-oauthlib>=0.7.0 in /usr/local/lib/python3.8/dist-packages (from google-auth-oauthlib<0.5,>=0.4.1->tensorboard<2.10,>=2.9->tensorflow>=2.0->keras-tuner) (1.3.1)\n",
            "Requirement already satisfied: importlib-metadata>=4.4 in /usr/local/lib/python3.8/dist-packages (from markdown>=2.6.8->tensorboard<2.10,>=2.9->tensorflow>=2.0->keras-tuner) (6.0.0)\n",
            "Requirement already satisfied: zipp>=0.5 in /usr/local/lib/python3.8/dist-packages (from importlib-metadata>=4.4->markdown>=2.6.8->tensorboard<2.10,>=2.9->tensorflow>=2.0->keras-tuner) (3.12.0)\n",
            "Requirement already satisfied: pyasn1<0.5.0,>=0.4.6 in /usr/local/lib/python3.8/dist-packages (from pyasn1-modules>=0.2.1->google-auth<3,>=1.6.3->tensorboard<2.10,>=2.9->tensorflow>=2.0->keras-tuner) (0.4.8)\n",
            "Requirement already satisfied: oauthlib>=3.0.0 in /usr/local/lib/python3.8/dist-packages (from requests-oauthlib>=0.7.0->google-auth-oauthlib<0.5,>=0.4.1->tensorboard<2.10,>=2.9->tensorflow>=2.0->keras-tuner) (3.2.2)\n",
            "Installing collected packages: kt-legacy, jedi, keras-tuner\n",
            "Successfully installed jedi-0.18.2 keras-tuner-1.2.0 kt-legacy-1.0.4\n"
          ]
        }
      ]
    },
    {
      "cell_type": "code",
      "execution_count": null,
      "metadata": {
        "id": "NLtJelg2jPpS"
      },
      "outputs": [],
      "source": [
        "import numpy as np\n",
        "np.random.seed(45)\n",
        "import pandas as pd\n",
        "import math\n",
        "import matplotlib.pyplot as plt\n",
        "\n",
        "import matplotlib.pyplot as plt\n",
        "import tensorflow as tf\n",
        "from tensorflow import keras\n",
        "\n",
        "from tensorflow.keras.optimizers import Adam\n",
        "from tensorflow.keras import layers\n",
        "from tensorflow.keras.optimizers import SGD\n",
        "from keras.callbacks import LearningRateScheduler\n",
        "from keras.wrappers.scikit_learn import KerasClassifier\n",
        "\n",
        "import keras_tuner as kt\n",
        "\n",
        "from sklearn.model_selection import GridSearchCV\n",
        "from sklearn.metrics import accuracy_score\n",
        "from sklearn.model_selection import train_test_split"
      ]
    },
    {
      "cell_type": "code",
      "source": [
        "gpus = tf.config.experimental.list_physical_devices('GPU')\n",
        "print(gpus)\n",
        "try:\n",
        "    tf.config.experimental.set_memory_growth = True\n",
        "except Exception as ex:\n",
        "    print(e)"
      ],
      "metadata": {
        "colab": {
          "base_uri": "https://localhost:8080/"
        },
        "id": "8GgqI47zjkeB",
        "outputId": "37a3abb3-7af8-4c3a-f01e-e4a6080cfe84"
      },
      "execution_count": null,
      "outputs": [
        {
          "output_type": "stream",
          "name": "stdout",
          "text": [
            "[PhysicalDevice(name='/physical_device:GPU:0', device_type='GPU')]\n"
          ]
        }
      ]
    },
    {
      "cell_type": "code",
      "source": [
        "# Reading input train and test data. \n",
        "# train data will be used for model building and evaluation. \n",
        "# Test data will be used to validate the model performance on unseen data.\n",
        "\n",
        "train = pd.read_csv('/content/drive/MyDrive/Colab Notebooks/Fashion MNIST/fashion-mnist_train.csv')\n",
        "test = pd.read_csv(\"/content/drive/MyDrive/Colab Notebooks/Fashion MNIST/fashion-mnist_test.csv\")\n",
        "x_test = test.loc[:, test.columns != \"label\"]\n",
        "y_test = test['label']"
      ],
      "metadata": {
        "id": "sD28TFINkKMA"
      },
      "execution_count": null,
      "outputs": []
    },
    {
      "cell_type": "code",
      "source": [
        "# sample plot of a row from CSV to show the image. \n",
        "\n",
        "Image_index = 20\n",
        "img = train.loc[Image_index, train.columns != \"label\"].values.reshape((28,28))\n",
        "plt.imshow(img,cmap='gray')"
      ],
      "metadata": {
        "colab": {
          "base_uri": "https://localhost:8080/",
          "height": 282
        },
        "id": "92gnMbX_kTUA",
        "outputId": "2f77fb52-af4e-474b-b33d-dbb4e0bd2ac0"
      },
      "execution_count": null,
      "outputs": [
        {
          "output_type": "execute_result",
          "data": {
            "text/plain": [
              "<matplotlib.image.AxesImage at 0x7f7425aad6d0>"
            ]
          },
          "metadata": {},
          "execution_count": 5
        },
        {
          "output_type": "display_data",
          "data": {
            "text/plain": [
              "<Figure size 432x288 with 1 Axes>"
            ],
            "image/png": "[encoded data removed]"
          },
          "metadata": {
            "needs_background": "light"
          }
        }
      ]
    },
    {
      "cell_type": "code",
      "source": [
        "# Training data and label segregation.\n",
        "\n",
        "y_data = train['label'].values\n",
        "x_data = train.drop('label',axis=1)"
      ],
      "metadata": {
        "id": "WCPo6VXgnsRX"
      },
      "execution_count": null,
      "outputs": []
    },
    {
      "cell_type": "code",
      "source": [
        "# dividing the training data into 80-20 ratio for train and validation. \n",
        "\n",
        "X_train, X_val, y_train, y_val = train_test_split(x_data, y_data, test_size = 0.2, random_state=169)"
      ],
      "metadata": {
        "id": "wLWAxOfenwov"
      },
      "execution_count": null,
      "outputs": []
    },
    {
      "cell_type": "code",
      "source": [
        " #this function plots the accury against the epochs.\n",
        "\n",
        "def plot_accuracy_vs_epochs(history):\n",
        "    epochs = len(history.history['val_accuracy'])+1\n",
        "    fig = plt.figure(figsize=(6, 6))\n",
        "    plt.plot(range(1,len(history.history['val_accuracy'])+1),history.history['val_accuracy'],label='validation')\n",
        "    plt.plot(range(1,len(history.history['accuracy'])+1),history.history['accuracy'],label='training')\n",
        "    plt.legend(loc=0)\n",
        "    plt.xlabel('epochs')\n",
        "    plt.ylabel('accuracy')\n",
        "    plt.xlim([1,epochs])\n",
        "    plt.grid(True)\n",
        "    plt.title(\"Model Accuracy\")\n",
        "    plt.show()"
      ],
      "metadata": {
        "id": "8b2rB6Spn9Bv"
      },
      "execution_count": null,
      "outputs": []
    },
    {
      "cell_type": "code",
      "source": [
        "# this function plots the change in learning rate against the epchos.\n",
        "\n",
        "def plot_learning_rate(loss_history):\n",
        "# plot learning rate\n",
        "  fig = plt.figure()\n",
        "  plt.plot(range(1,epochs+1),loss_history.lrate,label='learning rate')\n",
        "  plt.xlabel(\"epoch\")\n",
        "  plt.xlim([1,epochs+1])\n",
        "  plt.ylabel(\"learning rate\")\n",
        "  plt.legend(loc=0)\n",
        "  plt.grid(True)\n",
        "  plt.title(\"Learning rate\")\n",
        "  plt.show()"
      ],
      "metadata": {
        "id": "x6SgHB1yoDQN"
      },
      "execution_count": null,
      "outputs": []
    },
    {
      "cell_type": "code",
      "source": [
        "# function used for manaul validation.\n",
        "\n",
        "def model_prediction(model, loc_num):\n",
        "  model.predict(x_test).argmax(axis=1)\n",
        "  img = x_test.iloc[loc_num].values.reshape((28,28))\n",
        "  plt.imshow(img,cmap='gray')\n",
        "  print(\"The predicted label is:\" ,model.predict(x_test).argmax(axis=1)[loc_num])\n",
        "  print(\"The actual label is: \", y_test[loc_num])"
      ],
      "metadata": {
        "id": "MjUacaFsoR7N"
      },
      "execution_count": null,
      "outputs": []
    },
    {
      "cell_type": "code",
      "source": [
        "# Function to create a basic model.\n",
        "\n",
        "def nn_model_fancy(perceptrons_in_each_layer, \n",
        "                   hidden_activation, \n",
        "                   initializer, \n",
        "                   dropout_rate, \n",
        "                   optimiser_type, \n",
        "                   loss_fuction):\n",
        "    model = keras.Sequential([\n",
        "            # input layer\n",
        "            keras.layers.Dense(perceptrons_in_each_layer, # hyperparameter \n",
        "                               activation= hidden_activation , # hyperparameter\n",
        "                               input_shape=(784,), \n",
        "                               kernel_initializer=initializer # hyperparameter\n",
        "                               ),\n",
        "            # hidden layer 1                  \n",
        "            keras.layers.Dense(perceptrons_in_each_layer, \n",
        "                               activation= hidden_activation,\n",
        "                               kernel_initializer=initializer\n",
        "                               ),\n",
        "            # hidden layer 2\n",
        "            keras.layers.Dense(perceptrons_in_each_layer, \n",
        "                               activation= hidden_activation,\n",
        "                               kernel_initializer=initializer\n",
        "                               ),\n",
        "\n",
        "            keras.layers.Dropout(dropout_rate), # hyperparameter\n",
        "            # Output layer\n",
        "            keras.layers.Dense(10, activation=tf.nn.softmax)\n",
        "        ]\n",
        "    )\n",
        "    model.summary()\n",
        "\n",
        "    model.compile(optimizer = optimiser_type, # hyperparameter \n",
        "                  loss = loss_fuction,  # hyperparameter\n",
        "                  metrics = ['accuracy'])\n",
        "\n",
        "    return model"
      ],
      "metadata": {
        "id": "i2iEpBxwof3-"
      },
      "execution_count": null,
      "outputs": []
    },
    {
      "cell_type": "code",
      "source": [
        "# building basic model with Activation as relu\n",
        "\n",
        "basic_model = nn_model_fancy (\n",
        "perceptrons_in_each_layer = 128,\n",
        "hidden_activation = \"relu\",\n",
        "initializer = tf.keras.initializers.RandomNormal(stddev=0.01),\n",
        "dropout_rate = 0 ,\n",
        "optimiser_type = tf.keras.optimizers.SGD(learning_rate=0.001),\n",
        "loss_fuction = \"sparse_categorical_crossentropy\",\n",
        ")"
      ],
      "metadata": {
        "colab": {
          "base_uri": "https://localhost:8080/"
        },
        "id": "3mX7DE9VpPVZ",
        "outputId": "f0be5456-3848-4957-a22d-c2e4225981b0"
      },
      "execution_count": null,
      "outputs": [
        {
          "output_type": "stream",
          "name": "stdout",
          "text": [
            "Model: \"sequential\"\n",
            "_________________________________________________________________\n",
            " Layer (type)                Output Shape              Param #   \n",
            "=================================================================\n",
            " dense (Dense)               (None, 128)               100480    \n",
            "                                                                 \n",
            " dense_1 (Dense)             (None, 128)               16512     \n",
            "                                                                 \n",
            " dense_2 (Dense)             (None, 128)               16512     \n",
            "                                                                 \n",
            " dropout (Dropout)           (None, 128)               0         \n",
            "                                                                 \n",
            " dense_3 (Dense)             (None, 10)                1290      \n",
            "                                                                 \n",
            "=================================================================\n",
            "Total params: 134,794\n",
            "Trainable params: 134,794\n",
            "Non-trainable params: 0\n",
            "_________________________________________________________________\n"
          ]
        }
      ]
    },
    {
      "cell_type": "code",
      "source": [
        "batch_size = 128\n",
        "epochs = 15\n",
        "basic_model_history = basic_model.fit(X_train, y_train, batch_size=batch_size, epochs=epochs, validation_data=(X_val, y_val))"
      ],
      "metadata": {
        "colab": {
          "base_uri": "https://localhost:8080/"
        },
        "id": "cET_X-UrpY6M",
        "outputId": "61581b07-2142-490e-ea87-f04c3175a2b0"
      },
      "execution_count": null,
      "outputs": [
        {
          "output_type": "stream",
          "name": "stdout",
          "text": [
            "Epoch 1/15\n",
            "375/375 [==============================] - 5s 6ms/step - loss: 0.9916 - accuracy: 0.6531 - val_loss: 0.6412 - val_accuracy: 0.7744\n",
            "Epoch 2/15\n",
            "375/375 [==============================] - 1s 4ms/step - loss: 0.5935 - accuracy: 0.7909 - val_loss: 0.5271 - val_accuracy: 0.8138\n",
            "Epoch 3/15\n",
            "375/375 [==============================] - 1s 3ms/step - loss: 0.5188 - accuracy: 0.8196 - val_loss: 0.4862 - val_accuracy: 0.8308\n",
            "Epoch 4/15\n",
            "375/375 [==============================] - 1s 3ms/step - loss: 0.4811 - accuracy: 0.8345 - val_loss: 0.4877 - val_accuracy: 0.8251\n",
            "Epoch 5/15\n",
            "375/375 [==============================] - 1s 3ms/step - loss: 0.4533 - accuracy: 0.8424 - val_loss: 0.4585 - val_accuracy: 0.8400\n",
            "Epoch 6/15\n",
            "375/375 [==============================] - 1s 3ms/step - loss: 0.4359 - accuracy: 0.8477 - val_loss: 0.4388 - val_accuracy: 0.8459\n",
            "Epoch 7/15\n",
            "375/375 [==============================] - 1s 3ms/step - loss: 0.4189 - accuracy: 0.8525 - val_loss: 0.4776 - val_accuracy: 0.8361\n",
            "Epoch 8/15\n",
            "375/375 [==============================] - 1s 3ms/step - loss: 0.4068 - accuracy: 0.8572 - val_loss: 0.4047 - val_accuracy: 0.8578\n",
            "Epoch 9/15\n",
            "375/375 [==============================] - 1s 3ms/step - loss: 0.3955 - accuracy: 0.8611 - val_loss: 0.4536 - val_accuracy: 0.8338\n",
            "Epoch 10/15\n",
            "375/375 [==============================] - 1s 3ms/step - loss: 0.3843 - accuracy: 0.8646 - val_loss: 0.3851 - val_accuracy: 0.8630\n",
            "Epoch 11/15\n",
            "375/375 [==============================] - 1s 3ms/step - loss: 0.3771 - accuracy: 0.8670 - val_loss: 0.3759 - val_accuracy: 0.8652\n",
            "Epoch 12/15\n",
            "375/375 [==============================] - 1s 3ms/step - loss: 0.3667 - accuracy: 0.8701 - val_loss: 0.3743 - val_accuracy: 0.8659\n",
            "Epoch 13/15\n",
            "375/375 [==============================] - 1s 3ms/step - loss: 0.3591 - accuracy: 0.8725 - val_loss: 0.3789 - val_accuracy: 0.8625\n",
            "Epoch 14/15\n",
            "375/375 [==============================] - 1s 3ms/step - loss: 0.3516 - accuracy: 0.8747 - val_loss: 0.3705 - val_accuracy: 0.8677\n",
            "Epoch 15/15\n",
            "375/375 [==============================] - 1s 3ms/step - loss: 0.3436 - accuracy: 0.8785 - val_loss: 0.3706 - val_accuracy: 0.8684\n"
          ]
        }
      ]
    },
    {
      "cell_type": "code",
      "source": [
        "plot_accuracy_vs_epochs(basic_model_history)"
      ],
      "metadata": {
        "colab": {
          "base_uri": "https://localhost:8080/",
          "height": 404
        },
        "id": "fl2LP8pWptsa",
        "outputId": "5114d03f-2514-491a-96cc-2af02fd40334"
      },
      "execution_count": null,
      "outputs": [
        {
          "output_type": "display_data",
          "data": {
            "text/plain": [
              "<Figure size 432x432 with 1 Axes>"
            ],
            "image/png": "[encoded data removed]"
          },
          "metadata": {
            "needs_background": "light"
          }
        }
      ]
    },
    {
      "cell_type": "code",
      "source": [
        "y_pred = basic_model.predict(x_test).argmax(axis=1)\n",
        "accuracy_score(y_test, y_pred)"
      ],
      "metadata": {
        "colab": {
          "base_uri": "https://localhost:8080/"
        },
        "id": "01EnNrrmp2hs",
        "outputId": "f10d6813-806c-4e1c-d0f9-94a820641b39"
      },
      "execution_count": null,
      "outputs": [
        {
          "output_type": "stream",
          "name": "stdout",
          "text": [
            "313/313 [==============================] - 1s 2ms/step\n"
          ]
        },
        {
          "output_type": "execute_result",
          "data": {
            "text/plain": [
              "0.8693"
            ]
          },
          "metadata": {},
          "execution_count": 15
        }
      ]
    },
    {
      "cell_type": "code",
      "source": [
        "# Manual setup for modifying learning rates per epoch\n",
        "# define step decay function\n",
        "# Step decay helps to converge to minima faster as the learning is increased over the epcohs.\n",
        "# often in DL, intial learning is important and later with larger steps the goal can be achieved faster. \n",
        "\n",
        "class LossHistory(keras.callbacks.Callback):\n",
        "    def on_train_begin(self, logs={}):\n",
        "        self.loss = []\n",
        "        self.lrate = []\n",
        "        \n",
        "    def on_epoch_end(self, batch, logs={}):\n",
        "        self.loss.append(logs.get('loss'))\n",
        "        self.lrate.append(step_decay(len(self.loss)))\n",
        "        print('lrate:', step_decay(len(self.loss)))\n",
        "\n",
        "def step_decay(epoch):\n",
        "    initial_lrate = 0.005\n",
        "    drop = 0.5 # new learning rate will be square root of the old leraning rate \n",
        "    drop_after_epochs = 2\n",
        "    lrate = initial_lrate * math.pow(drop, math.floor((epoch)/drop_after_epochs))\n",
        "    return lrate"
      ],
      "metadata": {
        "id": "Zy5G9Y5Hp7Ky"
      },
      "execution_count": null,
      "outputs": []
    },
    {
      "cell_type": "code",
      "source": [
        "step_scheduling_model = nn_model_fancy (\n",
        "perceptrons_in_each_layer = 128,\n",
        "hidden_activation = \"relu\",\n",
        "initializer = tf.keras.initializers.RandomNormal(stddev=0.01),\n",
        "dropout_rate = 0 ,\n",
        "optimiser_type = tf.keras.optimizers.SGD(),\n",
        "loss_fuction = \"sparse_categorical_crossentropy\",\n",
        ")"
      ],
      "metadata": {
        "colab": {
          "base_uri": "https://localhost:8080/"
        },
        "id": "VDd9t0QGqNcr",
        "outputId": "1948f1d4-a8f5-49e1-bb93-9042d011149b"
      },
      "execution_count": null,
      "outputs": [
        {
          "output_type": "stream",
          "name": "stdout",
          "text": [
            "Model: \"sequential_1\"\n",
            "_________________________________________________________________\n",
            " Layer (type)                Output Shape              Param #   \n",
            "=================================================================\n",
            " dense_4 (Dense)             (None, 128)               100480    \n",
            "                                                                 \n",
            " dense_5 (Dense)             (None, 128)               16512     \n",
            "                                                                 \n",
            " dense_6 (Dense)             (None, 128)               16512     \n",
            "                                                                 \n",
            " dropout_1 (Dropout)         (None, 128)               0         \n",
            "                                                                 \n",
            " dense_7 (Dense)             (None, 10)                1290      \n",
            "                                                                 \n",
            "=================================================================\n",
            "Total params: 134,794\n",
            "Trainable params: 134,794\n",
            "Non-trainable params: 0\n",
            "_________________________________________________________________\n"
          ]
        }
      ]
    },
    {
      "cell_type": "code",
      "source": [
        "batch_size = 128\n",
        "epochs = 15\n",
        "\n",
        "# learning schedule callback\n",
        "lrate_step_decay = LearningRateScheduler(step_decay) \n",
        "loss_history_step_decay = LossHistory()\n",
        "callbacks_list = [loss_history_step_decay, lrate_step_decay]\n",
        "\n",
        "step_scheduling_model_history = step_scheduling_model.fit(X_train, y_train, \n",
        "                                                          batch_size=batch_size, \n",
        "                                                          epochs=epochs, \n",
        "                                                          validation_data=(X_val, y_val),\n",
        "                                                          callbacks=callbacks_list)"
      ],
      "metadata": {
        "colab": {
          "base_uri": "https://localhost:8080/"
        },
        "id": "0-c6S4tVqRKl",
        "outputId": "95f1c0b9-83cf-40d8-89e7-672335753627"
      },
      "execution_count": null,
      "outputs": [
        {
          "output_type": "stream",
          "name": "stdout",
          "text": [
            "Epoch 1/15\n",
            "367/375 [============================>.] - ETA: 0s - loss: 0.7430 - accuracy: 0.7309lrate: 0.005\n",
            "375/375 [==============================] - 2s 4ms/step - loss: 0.7379 - accuracy: 0.7326 - val_loss: 0.4918 - val_accuracy: 0.8244 - lr: 0.0050\n",
            "Epoch 2/15\n",
            "362/375 [===========================>..] - ETA: 0s - loss: 0.4755 - accuracy: 0.8278lrate: 0.0025\n",
            "375/375 [==============================] - 1s 4ms/step - loss: 0.4739 - accuracy: 0.8284 - val_loss: 0.4353 - val_accuracy: 0.8442 - lr: 0.0050\n",
            "Epoch 3/15\n",
            "355/375 [===========================>..] - ETA: 0s - loss: 0.3937 - accuracy: 0.8569lrate: 0.0025\n",
            "375/375 [==============================] - 1s 4ms/step - loss: 0.3924 - accuracy: 0.8576 - val_loss: 0.4072 - val_accuracy: 0.8537 - lr: 0.0025\n",
            "Epoch 4/15\n",
            "370/375 [============================>.] - ETA: 0s - loss: 0.3738 - accuracy: 0.8650lrate: 0.00125\n",
            "375/375 [==============================] - 1s 4ms/step - loss: 0.3740 - accuracy: 0.8649 - val_loss: 0.3880 - val_accuracy: 0.8572 - lr: 0.0025\n",
            "Epoch 5/15\n",
            "367/375 [============================>.] - ETA: 0s - loss: 0.3473 - accuracy: 0.8751lrate: 0.00125\n",
            "375/375 [==============================] - 1s 3ms/step - loss: 0.3473 - accuracy: 0.8750 - val_loss: 0.3672 - val_accuracy: 0.8665 - lr: 0.0012\n",
            "Epoch 6/15\n",
            "372/375 [============================>.] - ETA: 0s - loss: 0.3404 - accuracy: 0.8765lrate: 0.000625\n",
            "375/375 [==============================] - 1s 3ms/step - loss: 0.3398 - accuracy: 0.8767 - val_loss: 0.3581 - val_accuracy: 0.8717 - lr: 0.0012\n",
            "Epoch 7/15\n",
            "364/375 [============================>.] - ETA: 0s - loss: 0.3273 - accuracy: 0.8826lrate: 0.000625\n",
            "375/375 [==============================] - 1s 4ms/step - loss: 0.3278 - accuracy: 0.8824 - val_loss: 0.3519 - val_accuracy: 0.8715 - lr: 6.2500e-04\n",
            "Epoch 8/15\n",
            "369/375 [============================>.] - ETA: 0s - loss: 0.3245 - accuracy: 0.8830lrate: 0.0003125\n",
            "375/375 [==============================] - 1s 3ms/step - loss: 0.3239 - accuracy: 0.8832 - val_loss: 0.3528 - val_accuracy: 0.8732 - lr: 6.2500e-04\n",
            "Epoch 9/15\n",
            "370/375 [============================>.] - ETA: 0s - loss: 0.3187 - accuracy: 0.8852lrate: 0.0003125\n",
            "375/375 [==============================] - 1s 4ms/step - loss: 0.3184 - accuracy: 0.8853 - val_loss: 0.3491 - val_accuracy: 0.8735 - lr: 3.1250e-04\n",
            "Epoch 10/15\n",
            "372/375 [============================>.] - ETA: 0s - loss: 0.3170 - accuracy: 0.8861lrate: 0.00015625\n",
            "375/375 [==============================] - 1s 3ms/step - loss: 0.3164 - accuracy: 0.8863 - val_loss: 0.3470 - val_accuracy: 0.8745 - lr: 3.1250e-04\n",
            "Epoch 11/15\n",
            "369/375 [============================>.] - ETA: 0s - loss: 0.3134 - accuracy: 0.8873lrate: 0.00015625\n",
            "375/375 [==============================] - 1s 3ms/step - loss: 0.3133 - accuracy: 0.8873 - val_loss: 0.3445 - val_accuracy: 0.8751 - lr: 1.5625e-04\n",
            "Epoch 12/15\n",
            "374/375 [============================>.] - ETA: 0s - loss: 0.3125 - accuracy: 0.8877lrate: 7.8125e-05\n",
            "375/375 [==============================] - 1s 3ms/step - loss: 0.3124 - accuracy: 0.8878 - val_loss: 0.3449 - val_accuracy: 0.8752 - lr: 1.5625e-04\n",
            "Epoch 13/15\n",
            "372/375 [============================>.] - ETA: 0s - loss: 0.3105 - accuracy: 0.8880lrate: 7.8125e-05\n",
            "375/375 [==============================] - 1s 3ms/step - loss: 0.3107 - accuracy: 0.8880 - val_loss: 0.3441 - val_accuracy: 0.8746 - lr: 7.8125e-05\n",
            "Epoch 14/15\n",
            "370/375 [============================>.] - ETA: 0s - loss: 0.3106 - accuracy: 0.8880lrate: 3.90625e-05\n",
            "375/375 [==============================] - 1s 4ms/step - loss: 0.3104 - accuracy: 0.8880 - val_loss: 0.3431 - val_accuracy: 0.8758 - lr: 7.8125e-05\n",
            "Epoch 15/15\n",
            "370/375 [============================>.] - ETA: 0s - loss: 0.3092 - accuracy: 0.8885lrate: 3.90625e-05\n",
            "375/375 [==============================] - 2s 4ms/step - loss: 0.3096 - accuracy: 0.8882 - val_loss: 0.3431 - val_accuracy: 0.8758 - lr: 3.9062e-05\n"
          ]
        }
      ]
    },
    {
      "cell_type": "code",
      "source": [
        "y_pred = step_scheduling_model.predict(x_test).argmax(axis=1)\n",
        "accuracy_score(y_test, y_pred)"
      ],
      "metadata": {
        "colab": {
          "base_uri": "https://localhost:8080/"
        },
        "id": "oSBek0qWqbnE",
        "outputId": "8c314595-4f0f-48b5-a3a9-1eb5ef70822f"
      },
      "execution_count": null,
      "outputs": [
        {
          "output_type": "stream",
          "name": "stdout",
          "text": [
            "313/313 [==============================] - 1s 2ms/step\n"
          ]
        },
        {
          "output_type": "execute_result",
          "data": {
            "text/plain": [
              "0.8784"
            ]
          },
          "metadata": {},
          "execution_count": 19
        }
      ]
    },
    {
      "cell_type": "code",
      "source": [
        "plot_accuracy_vs_epochs(step_scheduling_model_history)"
      ],
      "metadata": {
        "colab": {
          "base_uri": "https://localhost:8080/",
          "height": 404
        },
        "id": "_AliLY5jqvQ7",
        "outputId": "885d794b-03d4-42c6-9a59-f9222cb9261e"
      },
      "execution_count": null,
      "outputs": [
        {
          "output_type": "display_data",
          "data": {
            "text/plain": [
              "<Figure size 432x432 with 1 Axes>"
            ],
            "image/png": "[encoded data removed]"
          },
          "metadata": {
            "needs_background": "light"
          }
        }
      ]
    },
    {
      "cell_type": "code",
      "source": [
        "plot_learning_rate(loss_history_step_decay)"
      ],
      "metadata": {
        "colab": {
          "base_uri": "https://localhost:8080/",
          "height": 295
        },
        "id": "EBOf2hKZq51d",
        "outputId": "053b8a49-7bc4-4972-fc29-b5728e72d59d"
      },
      "execution_count": null,
      "outputs": [
        {
          "output_type": "display_data",
          "data": {
            "text/plain": [
              "<Figure size 432x288 with 1 Axes>"
            ],
            "image/png": "[encoded data removed]"
          },
          "metadata": {
            "needs_background": "light"
          }
        }
      ]
    },
    {
      "cell_type": "code",
      "source": [
        "# observation.\n",
        "#Train and validation accuracy is increased from previous model.\n",
        "#The learning rate of model was not constant and accelerated as the epoch incresed.\n",
        "#time taken to build the model was faster from previous model."
      ],
      "metadata": {
        "id": "nGlOh0o5raMA"
      },
      "execution_count": null,
      "outputs": []
    },
    {
      "cell_type": "code",
      "source": [
        "# ADAM OPTIMIZER\n",
        "# earlier we have seen the model performance with SGD, in this case changing the optimised to adam.\n",
        "\n",
        "adam_optimiser_model = nn_model_fancy (\n",
        "perceptrons_in_each_layer = 128,\n",
        "hidden_activation = \"relu\",\n",
        "initializer = tf.keras.initializers.RandomNormal(stddev=0.01),\n",
        "dropout_rate = 0 ,\n",
        "optimiser_type = \"adam\",\n",
        "loss_fuction = \"sparse_categorical_crossentropy\",\n",
        ")"
      ],
      "metadata": {
        "colab": {
          "base_uri": "https://localhost:8080/"
        },
        "id": "5rJdGK_gryDC",
        "outputId": "b2ce4517-e222-42f5-c1fd-fc567c1a9c84"
      },
      "execution_count": null,
      "outputs": [
        {
          "output_type": "stream",
          "name": "stdout",
          "text": [
            "Model: \"sequential_2\"\n",
            "_________________________________________________________________\n",
            " Layer (type)                Output Shape              Param #   \n",
            "=================================================================\n",
            " dense_8 (Dense)             (None, 128)               100480    \n",
            "                                                                 \n",
            " dense_9 (Dense)             (None, 128)               16512     \n",
            "                                                                 \n",
            " dense_10 (Dense)            (None, 128)               16512     \n",
            "                                                                 \n",
            " dropout_2 (Dropout)         (None, 128)               0         \n",
            "                                                                 \n",
            " dense_11 (Dense)            (None, 10)                1290      \n",
            "                                                                 \n",
            "=================================================================\n",
            "Total params: 134,794\n",
            "Trainable params: 134,794\n",
            "Non-trainable params: 0\n",
            "_________________________________________________________________\n"
          ]
        }
      ]
    },
    {
      "cell_type": "code",
      "source": [
        "batch_size = 128\n",
        "epochs = 15\n",
        "\n",
        "adam_optimiser_model_history = adam_optimiser_model.fit(X_train, y_train, \\\n",
        "                                            batch_size=batch_size, epochs=epochs, validation_data=(X_val, y_val))"
      ],
      "metadata": {
        "colab": {
          "base_uri": "https://localhost:8080/"
        },
        "id": "dvaMSE5Ir_fn",
        "outputId": "f6bb85d5-5d1e-40e5-826c-2dd1f3f7b767"
      },
      "execution_count": null,
      "outputs": [
        {
          "output_type": "stream",
          "name": "stdout",
          "text": [
            "Epoch 1/15\n",
            "375/375 [==============================] - 2s 4ms/step - loss: 0.5435 - accuracy: 0.8016 - val_loss: 0.4141 - val_accuracy: 0.8492\n",
            "Epoch 2/15\n",
            "375/375 [==============================] - 1s 4ms/step - loss: 0.4071 - accuracy: 0.8524 - val_loss: 0.4315 - val_accuracy: 0.8447\n",
            "Epoch 3/15\n",
            "375/375 [==============================] - 1s 3ms/step - loss: 0.3739 - accuracy: 0.8648 - val_loss: 0.3917 - val_accuracy: 0.8621\n",
            "Epoch 4/15\n",
            "375/375 [==============================] - 1s 4ms/step - loss: 0.3501 - accuracy: 0.8725 - val_loss: 0.3575 - val_accuracy: 0.8693\n",
            "Epoch 5/15\n",
            "375/375 [==============================] - 1s 3ms/step - loss: 0.3293 - accuracy: 0.8783 - val_loss: 0.3695 - val_accuracy: 0.8662\n",
            "Epoch 6/15\n",
            "375/375 [==============================] - 1s 3ms/step - loss: 0.3214 - accuracy: 0.8814 - val_loss: 0.3623 - val_accuracy: 0.8691\n",
            "Epoch 7/15\n",
            "375/375 [==============================] - 1s 3ms/step - loss: 0.3169 - accuracy: 0.8835 - val_loss: 0.3577 - val_accuracy: 0.8725\n",
            "Epoch 8/15\n",
            "375/375 [==============================] - 1s 4ms/step - loss: 0.2989 - accuracy: 0.8902 - val_loss: 0.3785 - val_accuracy: 0.8746\n",
            "Epoch 9/15\n",
            "375/375 [==============================] - 1s 3ms/step - loss: 0.2884 - accuracy: 0.8932 - val_loss: 0.3443 - val_accuracy: 0.8798\n",
            "Epoch 10/15\n",
            "375/375 [==============================] - 1s 3ms/step - loss: 0.2806 - accuracy: 0.8954 - val_loss: 0.3482 - val_accuracy: 0.8777\n",
            "Epoch 11/15\n",
            "375/375 [==============================] - 1s 3ms/step - loss: 0.2782 - accuracy: 0.8973 - val_loss: 0.3658 - val_accuracy: 0.8705\n",
            "Epoch 12/15\n",
            "375/375 [==============================] - 1s 3ms/step - loss: 0.2677 - accuracy: 0.9007 - val_loss: 0.3404 - val_accuracy: 0.8804\n",
            "Epoch 13/15\n",
            "375/375 [==============================] - 1s 4ms/step - loss: 0.2711 - accuracy: 0.8988 - val_loss: 0.3583 - val_accuracy: 0.8784\n",
            "Epoch 14/15\n",
            "375/375 [==============================] - 1s 4ms/step - loss: 0.2625 - accuracy: 0.9032 - val_loss: 0.3770 - val_accuracy: 0.8716\n",
            "Epoch 15/15\n",
            "375/375 [==============================] - 1s 3ms/step - loss: 0.2618 - accuracy: 0.9026 - val_loss: 0.4533 - val_accuracy: 0.8645\n"
          ]
        }
      ]
    },
    {
      "cell_type": "code",
      "source": [
        "y_pred = adam_optimiser_model.predict(x_test).argmax(axis=1)\n",
        "accuracy_score(y_test, y_pred)"
      ],
      "metadata": {
        "colab": {
          "base_uri": "https://localhost:8080/"
        },
        "id": "dGhT0KbytKb3",
        "outputId": "aa177775-e475-4bdc-9e82-7ebcff5d2d9b"
      },
      "execution_count": null,
      "outputs": [
        {
          "output_type": "stream",
          "name": "stdout",
          "text": [
            "313/313 [==============================] - 1s 2ms/step\n"
          ]
        },
        {
          "output_type": "execute_result",
          "data": {
            "text/plain": [
              "0.8637"
            ]
          },
          "metadata": {},
          "execution_count": 25
        }
      ]
    },
    {
      "cell_type": "code",
      "source": [
        "plot_accuracy_vs_epochs(adam_optimiser_model_history)"
      ],
      "metadata": {
        "colab": {
          "base_uri": "https://localhost:8080/",
          "height": 404
        },
        "id": "T3tIbA2atXFJ",
        "outputId": "8e727835-8ddf-4ec8-b1ad-56c9e9817e12"
      },
      "execution_count": null,
      "outputs": [
        {
          "output_type": "display_data",
          "data": {
            "text/plain": [
              "<Figure size 432x432 with 1 Axes>"
            ],
            "image/png": "[encoded data removed]"
          },
          "metadata": {
            "needs_background": "light"
          }
        }
      ]
    },
    {
      "cell_type": "code",
      "source": [
        "#observation.\n",
        "#Training accuracy with adam was lot better to compare to previous models.\n",
        "#Due to faster convergence model execution time was fast."
      ],
      "metadata": {
        "id": "I-MSDv7Gtbwh"
      },
      "execution_count": null,
      "outputs": []
    },
    {
      "cell_type": "code",
      "source": [
        "# 4. Hyperparameter tuning the architecture with KerasTuner."
      ],
      "metadata": {
        "id": "3thHyEJ5t34K"
      },
      "execution_count": null,
      "outputs": []
    },
    {
      "cell_type": "code",
      "source": [
        "hp = kt.HyperParameters()"
      ],
      "metadata": {
        "id": "K5-7sP88t9LB"
      },
      "execution_count": null,
      "outputs": []
    },
    {
      "cell_type": "code",
      "source": [
        "def build_model(hp):\n",
        "    model = keras.Sequential()\n",
        "    # input layer\n",
        "    model.add(\n",
        "        layers.Dense(input_shape=(784,),\n",
        "            # Tune number of units.\n",
        "            units=hp.Int(\"units\", min_value=32, max_value=512, step=32),\n",
        "            # Tune the activation function to use.\n",
        "            activation=hp.Choice(\"activation\", [\"relu\", \"tanh\"]),\n",
        "        )\n",
        "    )\n",
        "    # hidden layer 1\n",
        "    model.add(\n",
        "        layers.Dense(\n",
        "            units=hp.Int(\"units\", min_value=32, max_value=512, step=32),\n",
        "            activation=hp.Choice(\"activation\", [\"relu\", \"tanh\"]),\n",
        "        )\n",
        "    )\n",
        "    # Hidden layer 2\n",
        "    model.add(\n",
        "        layers.Dense(\n",
        "            units=hp.Int(\"units\", min_value=32, max_value=512, step=32),\n",
        "            # Tune the activation function to use.\n",
        "            activation=hp.Choice(\"activation\", [\"relu\", \"tanh\"]),\n",
        "        )\n",
        "    )\n",
        "    # Tune whether to use dropout.\n",
        "    if hp.Boolean(\"dropout\"):\n",
        "        model.add(layers.Dropout(rate=0.25))\n",
        "    model.add(layers.Dense(10, activation=\"softmax\"))\n",
        "    # Define the optimizer learning rate as a hyperparameter.\n",
        "    learning_rate = hp.Float(\"lr\", min_value=1e-4, max_value=1e-2, sampling=\"log\")\n",
        "    model.compile(\n",
        "        optimizer=keras.optimizers.Adam(learning_rate=learning_rate),\n",
        "        loss=\"sparse_categorical_crossentropy\",\n",
        "        metrics=[\"accuracy\"],\n",
        "    )\n",
        "    return model"
      ],
      "metadata": {
        "id": "RGk6YjOwuBbe"
      },
      "execution_count": null,
      "outputs": []
    },
    {
      "cell_type": "code",
      "source": [
        "tuner = kt.RandomSearch(\n",
        "    hypermodel=build_model,\n",
        "    objective=\"val_loss\",\n",
        "    max_trials=3,\n",
        "    executions_per_trial=2,\n",
        "    overwrite=True,\n",
        "    directory=\"Arch_tuning_dir\",\n",
        "    project_name=\"Fashion_MNIST\",\n",
        ")"
      ],
      "metadata": {
        "id": "NtXfCyw1uYqR"
      },
      "execution_count": null,
      "outputs": []
    },
    {
      "cell_type": "code",
      "source": [
        "tuner.search_space_summary()"
      ],
      "metadata": {
        "colab": {
          "base_uri": "https://localhost:8080/"
        },
        "id": "h2GFUUZwupmU",
        "outputId": "ddcaf23c-30f5-46e4-8ef3-ab09392e54de"
      },
      "execution_count": null,
      "outputs": [
        {
          "output_type": "stream",
          "name": "stdout",
          "text": [
            "Search space summary\n",
            "Default search space size: 4\n",
            "units (Int)\n",
            "{'default': None, 'conditions': [], 'min_value': 32, 'max_value': 512, 'step': 32, 'sampling': 'linear'}\n",
            "activation (Choice)\n",
            "{'default': 'relu', 'conditions': [], 'values': ['relu', 'tanh'], 'ordered': False}\n",
            "dropout (Boolean)\n",
            "{'default': False, 'conditions': []}\n",
            "lr (Float)\n",
            "{'default': 0.0001, 'conditions': [], 'min_value': 0.0001, 'max_value': 0.01, 'step': None, 'sampling': 'log'}\n"
          ]
        }
      ]
    },
    {
      "cell_type": "code",
      "source": [
        "tuner.search(X_train, y_train, epochs=2, validation_data=(X_val, y_val))"
      ],
      "metadata": {
        "colab": {
          "base_uri": "https://localhost:8080/"
        },
        "id": "UJoVqgkdus7I",
        "outputId": "be689de8-e2b5-4fb1-87c4-30141bcbedc7"
      },
      "execution_count": null,
      "outputs": [
        {
          "output_type": "stream",
          "name": "stdout",
          "text": [
            "Trial 3 Complete [00h 00m 21s]\n",
            "val_loss: 0.6258822083473206\n",
            "\n",
            "Best val_loss So Far: 0.6258822083473206\n",
            "Total elapsed time: 00h 01m 05s\n"
          ]
        }
      ]
    },
    {
      "cell_type": "code",
      "source": [
        "tuner.results_summary()"
      ],
      "metadata": {
        "colab": {
          "base_uri": "https://localhost:8080/"
        },
        "id": "213fGUd7uzDG",
        "outputId": "23f9e84e-91e9-4053-ed25-599694fbac3c"
      },
      "execution_count": null,
      "outputs": [
        {
          "output_type": "stream",
          "name": "stdout",
          "text": [
            "Results summary\n",
            "Results in Arch_tuning_dir/Fashion_MNIST\n",
            "Showing 10 best trials\n",
            "<keras_tuner.engine.objective.Objective object at 0x7f740c5dd4c0>\n",
            "Trial summary\n",
            "Hyperparameters:\n",
            "units: 480\n",
            "activation: tanh\n",
            "dropout: False\n",
            "lr: 0.0002253374765329313\n",
            "Score: 0.6258822083473206\n",
            "Trial summary\n",
            "Hyperparameters:\n",
            "units: 64\n",
            "activation: tanh\n",
            "dropout: False\n",
            "lr: 0.001526142678547701\n",
            "Score: 1.0627292394638062\n",
            "Trial summary\n",
            "Hyperparameters:\n",
            "units: 480\n",
            "activation: tanh\n",
            "dropout: False\n",
            "lr: 0.006511506479830828\n",
            "Score: 2.4802205562591553\n"
          ]
        }
      ]
    },
    {
      "cell_type": "code",
      "source": [
        "#observation\n",
        "#We got model best parameters and need of drop layer etc\n",
        "#We haven't got the best optimised and initializer, in the next step using gridsearch cv that can be done."
      ],
      "metadata": {
        "id": "lVQ-6jOJvJGd"
      },
      "execution_count": null,
      "outputs": []
    },
    {
      "cell_type": "code",
      "source": [
        "#5. Grid search CV for the rest of the parameters."
      ],
      "metadata": {
        "id": "C8FoXdX8vgCH"
      },
      "execution_count": null,
      "outputs": []
    },
    {
      "cell_type": "code",
      "source": [
        "model = KerasClassifier(build_fn = nn_model_fancy)"
      ],
      "metadata": {
        "colab": {
          "base_uri": "https://localhost:8080/"
        },
        "id": "CpXOCQmxvzG8",
        "outputId": "fd3aaa23-b9f7-49e7-e02f-f18be442ce3e"
      },
      "execution_count": null,
      "outputs": [
        {
          "output_type": "stream",
          "name": "stderr",
          "text": [
            "<ipython-input-37-0a59f9c8ebe2>:1: DeprecationWarning: KerasClassifier is deprecated, use Sci-Keras (https://github.com/adriangb/scikeras) instead. See https://www.adriangb.com/scikeras/stable/migration.html for help migrating.\n",
            "  model = KerasClassifier(build_fn = nn_model_fancy)\n"
          ]
        }
      ]
    },
    {
      "cell_type": "code",
      "source": [
        "params={'perceptrons_in_each_layer': [ 160],\n",
        "        'hidden_activation': [\"tanh\" ],\n",
        "        'initializer': [tf.keras.initializers.RandomNormal(mean=0., stddev=1.), tf.keras.initializers.Zeros(), \\\n",
        "                        tf.keras.initializers.Ones() ],\n",
        "        'dropout_rate': [0.25],\n",
        "        'optimiser_type': [tf.keras.optimizers.SGD(learning_rate=0.0004) , \"adam\", \"adagrad\"],\n",
        "        'loss_fuction': [\"sparse_categorical_crossentropy\" ],\n",
        "        'nb_epoch':[15]\n",
        "        }\n",
        "\n",
        "gs=GridSearchCV(estimator=model, param_grid=params, cv=2)\n",
        "\n",
        "# now fit the dataset to the GridSearchCV object. \n",
        "gs = gs.fit(X_train, y_train)"
      ],
      "metadata": {
        "colab": {
          "base_uri": "https://localhost:8080/"
        },
        "id": "-Ff38tEQv4ut",
        "outputId": "8261a9e6-d0d4-451e-dc25-30d8ecf81652"
      },
      "execution_count": null,
      "outputs": [
        {
          "output_type": "stream",
          "name": "stdout",
          "text": [
            "Model: \"sequential_1\"\n",
            "_________________________________________________________________\n",
            " Layer (type)                Output Shape              Param #   \n",
            "=================================================================\n",
            " dense_4 (Dense)             (None, 160)               125600    \n",
            "                                                                 \n",
            " dense_5 (Dense)             (None, 160)               25760     \n",
            "                                                                 \n",
            " dense_6 (Dense)             (None, 160)               25760     \n",
            "                                                                 \n",
            " dropout (Dropout)           (None, 160)               0         \n",
            "                                                                 \n",
            " dense_7 (Dense)             (None, 10)                1610      \n",
            "                                                                 \n",
            "=================================================================\n",
            "Total params: 178,730\n",
            "Trainable params: 178,730\n",
            "Non-trainable params: 0\n",
            "_________________________________________________________________\n",
            "750/750 [==============================] - 2s 2ms/step - loss: 2.8033 - accuracy: 0.1353\n",
            "750/750 [==============================] - 2s 2ms/step - loss: 2.4081 - accuracy: 0.1777\n",
            "Model: \"sequential_2\"\n",
            "_________________________________________________________________\n",
            " Layer (type)                Output Shape              Param #   \n",
            "=================================================================\n",
            " dense_8 (Dense)             (None, 160)               125600    \n",
            "                                                                 \n",
            " dense_9 (Dense)             (None, 160)               25760     \n",
            "                                                                 \n",
            " dense_10 (Dense)            (None, 160)               25760     \n",
            "                                                                 \n",
            " dropout_1 (Dropout)         (None, 160)               0         \n",
            "                                                                 \n",
            " dense_11 (Dense)            (None, 10)                1610      \n",
            "                                                                 \n",
            "=================================================================\n",
            "Total params: 178,730\n",
            "Trainable params: 178,730\n",
            "Non-trainable params: 0\n",
            "_________________________________________________________________\n",
            "750/750 [==============================] - 2s 2ms/step - loss: 2.9964 - accuracy: 0.1115\n",
            "750/750 [==============================] - 2s 3ms/step - loss: 2.5555 - accuracy: 0.1477\n",
            "Model: \"sequential_3\"\n",
            "_________________________________________________________________\n",
            " Layer (type)                Output Shape              Param #   \n",
            "=================================================================\n",
            " dense_12 (Dense)            (None, 160)               125600    \n",
            "                                                                 \n",
            " dense_13 (Dense)            (None, 160)               25760     \n",
            "                                                                 \n",
            " dense_14 (Dense)            (None, 160)               25760     \n",
            "                                                                 \n",
            " dropout_2 (Dropout)         (None, 160)               0         \n",
            "                                                                 \n",
            " dense_15 (Dense)            (None, 10)                1610      \n",
            "                                                                 \n",
            "=================================================================\n",
            "Total params: 178,730\n",
            "Trainable params: 178,730\n",
            "Non-trainable params: 0\n",
            "_________________________________________________________________\n",
            "750/750 [==============================] - 3s 3ms/step - loss: 1.4260 - accuracy: 0.4998\n",
            "750/750 [==============================] - 2s 2ms/step - loss: 0.9457 - accuracy: 0.6530\n",
            "Model: \"sequential_4\"\n",
            "_________________________________________________________________\n",
            " Layer (type)                Output Shape              Param #   \n",
            "=================================================================\n",
            " dense_16 (Dense)            (None, 160)               125600    \n",
            "                                                                 \n",
            " dense_17 (Dense)            (None, 160)               25760     \n",
            "                                                                 \n",
            " dense_18 (Dense)            (None, 160)               25760     \n",
            "                                                                 \n",
            " dropout_3 (Dropout)         (None, 160)               0         \n",
            "                                                                 \n",
            " dense_19 (Dense)            (None, 10)                1610      \n",
            "                                                                 \n",
            "=================================================================\n",
            "Total params: 178,730\n",
            "Trainable params: 178,730\n",
            "Non-trainable params: 0\n",
            "_________________________________________________________________\n",
            "750/750 [==============================] - 2s 3ms/step - loss: 1.3613 - accuracy: 0.5186\n",
            "750/750 [==============================] - 2s 2ms/step - loss: 0.9294 - accuracy: 0.6545\n",
            "Model: \"sequential_5\"\n",
            "_________________________________________________________________\n",
            " Layer (type)                Output Shape              Param #   \n",
            "=================================================================\n",
            " dense_20 (Dense)            (None, 160)               125600    \n",
            "                                                                 \n",
            " dense_21 (Dense)            (None, 160)               25760     \n",
            "                                                                 \n",
            " dense_22 (Dense)            (None, 160)               25760     \n",
            "                                                                 \n",
            " dropout_4 (Dropout)         (None, 160)               0         \n",
            "                                                                 \n",
            " dense_23 (Dense)            (None, 10)                1610      \n",
            "                                                                 \n",
            "=================================================================\n",
            "Total params: 178,730\n",
            "Trainable params: 178,730\n",
            "Non-trainable params: 0\n",
            "_________________________________________________________________\n",
            "750/750 [==============================] - 2s 2ms/step - loss: 2.6153 - accuracy: 0.1763\n",
            "750/750 [==============================] - 2s 2ms/step - loss: 2.1517 - accuracy: 0.2469\n",
            "Model: \"sequential_6\"\n",
            "_________________________________________________________________\n",
            " Layer (type)                Output Shape              Param #   \n",
            "=================================================================\n",
            " dense_24 (Dense)            (None, 160)               125600    \n",
            "                                                                 \n",
            " dense_25 (Dense)            (None, 160)               25760     \n",
            "                                                                 \n",
            " dense_26 (Dense)            (None, 160)               25760     \n",
            "                                                                 \n",
            " dropout_5 (Dropout)         (None, 160)               0         \n",
            "                                                                 \n",
            " dense_27 (Dense)            (None, 10)                1610      \n",
            "                                                                 \n",
            "=================================================================\n",
            "Total params: 178,730\n",
            "Trainable params: 178,730\n",
            "Non-trainable params: 0\n",
            "_________________________________________________________________\n",
            "750/750 [==============================] - 2s 3ms/step - loss: 2.4003 - accuracy: 0.2265\n",
            "750/750 [==============================] - 2s 2ms/step - loss: 2.0037 - accuracy: 0.3044\n",
            "Model: \"sequential_7\"\n",
            "_________________________________________________________________\n",
            " Layer (type)                Output Shape              Param #   \n",
            "=================================================================\n",
            " dense_28 (Dense)            (None, 160)               125600    \n",
            "                                                                 \n",
            " dense_29 (Dense)            (None, 160)               25760     \n",
            "                                                                 \n",
            " dense_30 (Dense)            (None, 160)               25760     \n",
            "                                                                 \n",
            " dropout_6 (Dropout)         (None, 160)               0         \n",
            "                                                                 \n",
            " dense_31 (Dense)            (None, 10)                1610      \n",
            "                                                                 \n",
            "=================================================================\n",
            "Total params: 178,730\n",
            "Trainable params: 178,730\n",
            "Non-trainable params: 0\n",
            "_________________________________________________________________\n",
            "750/750 [==============================] - 2s 3ms/step - loss: 2.3026 - accuracy: 0.1008\n",
            "750/750 [==============================] - 2s 2ms/step - loss: 2.3026 - accuracy: 0.0974\n",
            "Model: \"sequential_8\"\n",
            "_________________________________________________________________\n",
            " Layer (type)                Output Shape              Param #   \n",
            "=================================================================\n",
            " dense_32 (Dense)            (None, 160)               125600    \n",
            "                                                                 \n",
            " dense_33 (Dense)            (None, 160)               25760     \n",
            "                                                                 \n",
            " dense_34 (Dense)            (None, 160)               25760     \n",
            "                                                                 \n",
            " dropout_7 (Dropout)         (None, 160)               0         \n",
            "                                                                 \n",
            " dense_35 (Dense)            (None, 10)                1610      \n",
            "                                                                 \n",
            "=================================================================\n",
            "Total params: 178,730\n",
            "Trainable params: 178,730\n",
            "Non-trainable params: 0\n",
            "_________________________________________________________________\n",
            "750/750 [==============================] - 2s 2ms/step - loss: 2.3026 - accuracy: 0.1005\n",
            "750/750 [==============================] - 2s 2ms/step - loss: 2.3026 - accuracy: 0.0981\n",
            "Model: \"sequential_9\"\n",
            "_________________________________________________________________\n",
            " Layer (type)                Output Shape              Param #   \n",
            "=================================================================\n",
            " dense_36 (Dense)            (None, 160)               125600    \n",
            "                                                                 \n",
            " dense_37 (Dense)            (None, 160)               25760     \n",
            "                                                                 \n",
            " dense_38 (Dense)            (None, 160)               25760     \n",
            "                                                                 \n",
            " dropout_8 (Dropout)         (None, 160)               0         \n",
            "                                                                 \n",
            " dense_39 (Dense)            (None, 10)                1610      \n",
            "                                                                 \n",
            "=================================================================\n",
            "Total params: 178,730\n",
            "Trainable params: 178,730\n",
            "Non-trainable params: 0\n",
            "_________________________________________________________________\n",
            "750/750 [==============================] - 2s 3ms/step - loss: 2.3032 - accuracy: 0.1015\n",
            "750/750 [==============================] - 2s 2ms/step - loss: 2.3044 - accuracy: 0.0974\n",
            "Model: \"sequential_10\"\n",
            "_________________________________________________________________\n",
            " Layer (type)                Output Shape              Param #   \n",
            "=================================================================\n",
            " dense_40 (Dense)            (None, 160)               125600    \n",
            "                                                                 \n",
            " dense_41 (Dense)            (None, 160)               25760     \n",
            "                                                                 \n",
            " dense_42 (Dense)            (None, 160)               25760     \n",
            "                                                                 \n",
            " dropout_9 (Dropout)         (None, 160)               0         \n",
            "                                                                 \n",
            " dense_43 (Dense)            (None, 10)                1610      \n",
            "                                                                 \n",
            "=================================================================\n",
            "Total params: 178,730\n",
            "Trainable params: 178,730\n",
            "Non-trainable params: 0\n",
            "_________________________________________________________________\n",
            "750/750 [==============================] - 2s 3ms/step - loss: 2.3034 - accuracy: 0.1017\n",
            "750/750 [==============================] - 2s 2ms/step - loss: 2.3033 - accuracy: 0.1020\n",
            "Model: \"sequential_11\"\n",
            "_________________________________________________________________\n",
            " Layer (type)                Output Shape              Param #   \n",
            "=================================================================\n",
            " dense_44 (Dense)            (None, 160)               125600    \n",
            "                                                                 \n",
            " dense_45 (Dense)            (None, 160)               25760     \n",
            "                                                                 \n",
            " dense_46 (Dense)            (None, 160)               25760     \n",
            "                                                                 \n",
            " dropout_10 (Dropout)        (None, 160)               0         \n",
            "                                                                 \n",
            " dense_47 (Dense)            (None, 10)                1610      \n",
            "                                                                 \n",
            "=================================================================\n",
            "Total params: 178,730\n",
            "Trainable params: 178,730\n",
            "Non-trainable params: 0\n",
            "_________________________________________________________________\n",
            "750/750 [==============================] - 2s 3ms/step - loss: 2.3026 - accuracy: 0.0988\n",
            "750/750 [==============================] - 2s 2ms/step - loss: 2.3027 - accuracy: 0.0974\n",
            "Model: \"sequential_12\"\n",
            "_________________________________________________________________\n",
            " Layer (type)                Output Shape              Param #   \n",
            "=================================================================\n",
            " dense_48 (Dense)            (None, 160)               125600    \n",
            "                                                                 \n",
            " dense_49 (Dense)            (None, 160)               25760     \n",
            "                                                                 \n",
            " dense_50 (Dense)            (None, 160)               25760     \n",
            "                                                                 \n",
            " dropout_11 (Dropout)        (None, 160)               0         \n",
            "                                                                 \n",
            " dense_51 (Dense)            (None, 10)                1610      \n",
            "                                                                 \n",
            "=================================================================\n",
            "Total params: 178,730\n",
            "Trainable params: 178,730\n",
            "Non-trainable params: 0\n",
            "_________________________________________________________________\n",
            "750/750 [==============================] - 2s 3ms/step - loss: 2.3026 - accuracy: 0.1000\n",
            "750/750 [==============================] - 2s 2ms/step - loss: 2.3027 - accuracy: 0.0981\n",
            "Model: \"sequential_13\"\n",
            "_________________________________________________________________\n",
            " Layer (type)                Output Shape              Param #   \n",
            "=================================================================\n",
            " dense_52 (Dense)            (None, 160)               125600    \n",
            "                                                                 \n",
            " dense_53 (Dense)            (None, 160)               25760     \n",
            "                                                                 \n",
            " dense_54 (Dense)            (None, 160)               25760     \n",
            "                                                                 \n",
            " dropout_12 (Dropout)        (None, 160)               0         \n",
            "                                                                 \n",
            " dense_55 (Dense)            (None, 10)                1610      \n",
            "                                                                 \n",
            "=================================================================\n",
            "Total params: 178,730\n",
            "Trainable params: 178,730\n",
            "Non-trainable params: 0\n",
            "_________________________________________________________________\n",
            "750/750 [==============================] - 2s 2ms/step - loss: 2.6176 - accuracy: 0.0955\n",
            "750/750 [==============================] - 2s 2ms/step - loss: 2.3035 - accuracy: 0.0981\n",
            "Model: \"sequential_14\"\n",
            "_________________________________________________________________\n",
            " Layer (type)                Output Shape              Param #   \n",
            "=================================================================\n",
            " dense_56 (Dense)            (None, 160)               125600    \n",
            "                                                                 \n",
            " dense_57 (Dense)            (None, 160)               25760     \n",
            "                                                                 \n",
            " dense_58 (Dense)            (None, 160)               25760     \n",
            "                                                                 \n",
            " dropout_13 (Dropout)        (None, 160)               0         \n",
            "                                                                 \n",
            " dense_59 (Dense)            (None, 10)                1610      \n",
            "                                                                 \n",
            "=================================================================\n",
            "Total params: 178,730\n",
            "Trainable params: 178,730\n",
            "Non-trainable params: 0\n",
            "_________________________________________________________________\n",
            "750/750 [==============================] - 2s 2ms/step - loss: 2.6171 - accuracy: 0.1030\n",
            "750/750 [==============================] - 2s 2ms/step - loss: 2.3037 - accuracy: 0.0980\n",
            "Model: \"sequential_15\"\n",
            "_________________________________________________________________\n",
            " Layer (type)                Output Shape              Param #   \n",
            "=================================================================\n",
            " dense_60 (Dense)            (None, 160)               125600    \n",
            "                                                                 \n",
            " dense_61 (Dense)            (None, 160)               25760     \n",
            "                                                                 \n",
            " dense_62 (Dense)            (None, 160)               25760     \n",
            "                                                                 \n",
            " dropout_14 (Dropout)        (None, 160)               0         \n",
            "                                                                 \n",
            " dense_63 (Dense)            (None, 10)                1610      \n",
            "                                                                 \n",
            "=================================================================\n",
            "Total params: 178,730\n",
            "Trainable params: 178,730\n",
            "Non-trainable params: 0\n",
            "_________________________________________________________________\n",
            "750/750 [==============================] - 2s 3ms/step - loss: 2.5412 - accuracy: 0.0991\n",
            "750/750 [==============================] - 2s 2ms/step - loss: 2.3247 - accuracy: 0.1030\n",
            "Model: \"sequential_16\"\n",
            "_________________________________________________________________\n",
            " Layer (type)                Output Shape              Param #   \n",
            "=================================================================\n",
            " dense_64 (Dense)            (None, 160)               125600    \n",
            "                                                                 \n",
            " dense_65 (Dense)            (None, 160)               25760     \n",
            "                                                                 \n",
            " dense_66 (Dense)            (None, 160)               25760     \n",
            "                                                                 \n",
            " dropout_15 (Dropout)        (None, 160)               0         \n",
            "                                                                 \n",
            " dense_67 (Dense)            (None, 10)                1610      \n",
            "                                                                 \n",
            "=================================================================\n",
            "Total params: 178,730\n",
            "Trainable params: 178,730\n",
            "Non-trainable params: 0\n",
            "_________________________________________________________________\n",
            "750/750 [==============================] - 2s 3ms/step - loss: 2.5311 - accuracy: 0.0967\n",
            "750/750 [==============================] - 2s 2ms/step - loss: 2.3055 - accuracy: 0.0973\n",
            "Model: \"sequential_17\"\n",
            "_________________________________________________________________\n",
            " Layer (type)                Output Shape              Param #   \n",
            "=================================================================\n",
            " dense_68 (Dense)            (None, 160)               125600    \n",
            "                                                                 \n",
            " dense_69 (Dense)            (None, 160)               25760     \n",
            "                                                                 \n",
            " dense_70 (Dense)            (None, 160)               25760     \n",
            "                                                                 \n",
            " dropout_16 (Dropout)        (None, 160)               0         \n",
            "                                                                 \n",
            " dense_71 (Dense)            (None, 10)                1610      \n",
            "                                                                 \n",
            "=================================================================\n",
            "Total params: 178,730\n",
            "Trainable params: 178,730\n",
            "Non-trainable params: 0\n",
            "_________________________________________________________________\n",
            "750/750 [==============================] - 2s 3ms/step - loss: 2.5946 - accuracy: 0.0989\n",
            "750/750 [==============================] - 2s 2ms/step - loss: 2.3039 - accuracy: 0.0981\n",
            "Model: \"sequential_18\"\n",
            "_________________________________________________________________\n",
            " Layer (type)                Output Shape              Param #   \n",
            "=================================================================\n",
            " dense_72 (Dense)            (None, 160)               125600    \n",
            "                                                                 \n",
            " dense_73 (Dense)            (None, 160)               25760     \n",
            "                                                                 \n",
            " dense_74 (Dense)            (None, 160)               25760     \n",
            "                                                                 \n",
            " dropout_17 (Dropout)        (None, 160)               0         \n",
            "                                                                 \n",
            " dense_75 (Dense)            (None, 10)                1610      \n",
            "                                                                 \n",
            "=================================================================\n",
            "Total params: 178,730\n",
            "Trainable params: 178,730\n",
            "Non-trainable params: 0\n",
            "_________________________________________________________________\n",
            "750/750 [==============================] - 2s 3ms/step - loss: 2.5917 - accuracy: 0.1007\n",
            "750/750 [==============================] - 2s 2ms/step - loss: 2.3035 - accuracy: 0.0981\n",
            "Model: \"sequential_19\"\n",
            "_________________________________________________________________\n",
            " Layer (type)                Output Shape              Param #   \n",
            "=================================================================\n",
            " dense_76 (Dense)            (None, 160)               125600    \n",
            "                                                                 \n",
            " dense_77 (Dense)            (None, 160)               25760     \n",
            "                                                                 \n",
            " dense_78 (Dense)            (None, 160)               25760     \n",
            "                                                                 \n",
            " dropout_18 (Dropout)        (None, 160)               0         \n",
            "                                                                 \n",
            " dense_79 (Dense)            (None, 10)                1610      \n",
            "                                                                 \n",
            "=================================================================\n",
            "Total params: 178,730\n",
            "Trainable params: 178,730\n",
            "Non-trainable params: 0\n",
            "_________________________________________________________________\n",
            "1500/1500 [==============================] - 4s 3ms/step - loss: 1.1686 - accuracy: 0.5791\n"
          ]
        }
      ]
    },
    {
      "cell_type": "code",
      "source": [
        "gs.best_params_"
      ],
      "metadata": {
        "colab": {
          "base_uri": "https://localhost:8080/"
        },
        "id": "60TOt69CwDQl",
        "outputId": "445baf6e-8ca5-4084-c8db-db9f01b8c646"
      },
      "execution_count": null,
      "outputs": [
        {
          "output_type": "execute_result",
          "data": {
            "text/plain": [
              "{'dropout_rate': 0.25,\n",
              " 'hidden_activation': 'tanh',\n",
              " 'initializer': <keras.initializers.initializers_v2.RandomNormal at 0x7f740c4ffdf0>,\n",
              " 'loss_fuction': 'sparse_categorical_crossentropy',\n",
              " 'nb_epoch': 15,\n",
              " 'optimiser_type': 'adam',\n",
              " 'perceptrons_in_each_layer': 160}"
            ]
          },
          "metadata": {},
          "execution_count": 39
        }
      ]
    },
    {
      "cell_type": "code",
      "source": [
        "gs.best_score_"
      ],
      "metadata": {
        "colab": {
          "base_uri": "https://localhost:8080/"
        },
        "id": "C1xL-5vowm0j",
        "outputId": "b2ef68cc-89b6-4f6e-f704-878ac336eb69"
      },
      "execution_count": null,
      "outputs": [
        {
          "output_type": "execute_result",
          "data": {
            "text/plain": [
              "0.6537916660308838"
            ]
          },
          "metadata": {},
          "execution_count": 40
        }
      ]
    },
    {
      "cell_type": "code",
      "source": [
        "#observation\n",
        "#In this step we are able to get the rest of the best hyperparemeters to build the model.\n",
        "#Early stopping in one method that helps in save time and compute, in the next step, we will build a model with best parameters and early stop."
      ],
      "metadata": {
        "id": "rXGfw_mKwqh9"
      },
      "execution_count": null,
      "outputs": []
    },
    {
      "cell_type": "code",
      "source": [
        "#6. Early Stopping\n",
        "# if with 5 epochs with no improvement after which training will be stopped. (helps is time and compute)"
      ],
      "metadata": {
        "id": "hzNqaSrNxHB5"
      },
      "execution_count": null,
      "outputs": []
    },
    {
      "cell_type": "code",
      "source": [
        "callback_early_stop = tf.keras.callbacks.EarlyStopping(monitor='val_loss', patience=5)"
      ],
      "metadata": {
        "id": "tbEvhOQ7xO26"
      },
      "execution_count": null,
      "outputs": []
    },
    {
      "cell_type": "code",
      "source": [
        "Early_stopping_model = nn_model_fancy (\n",
        "perceptrons_in_each_layer = 160,\n",
        "hidden_activation = \"tanh\",\n",
        "initializer = tf.keras.initializers.RandomNormal(mean=0., stddev=1.),\n",
        "dropout_rate = 0.25 ,\n",
        "optimiser_type = \"adam\",\n",
        "loss_fuction = \"sparse_categorical_crossentropy\",\n",
        ")"
      ],
      "metadata": {
        "colab": {
          "base_uri": "https://localhost:8080/"
        },
        "id": "jf_hQ5z3xU02",
        "outputId": "e301d3b0-649b-4fe3-eff7-232a4672e7c1"
      },
      "execution_count": null,
      "outputs": [
        {
          "output_type": "stream",
          "name": "stdout",
          "text": [
            "Model: \"sequential_20\"\n",
            "_________________________________________________________________\n",
            " Layer (type)                Output Shape              Param #   \n",
            "=================================================================\n",
            " dense_80 (Dense)            (None, 160)               125600    \n",
            "                                                                 \n",
            " dense_81 (Dense)            (None, 160)               25760     \n",
            "                                                                 \n",
            " dense_82 (Dense)            (None, 160)               25760     \n",
            "                                                                 \n",
            " dropout_19 (Dropout)        (None, 160)               0         \n",
            "                                                                 \n",
            " dense_83 (Dense)            (None, 10)                1610      \n",
            "                                                                 \n",
            "=================================================================\n",
            "Total params: 178,730\n",
            "Trainable params: 178,730\n",
            "Non-trainable params: 0\n",
            "_________________________________________________________________\n"
          ]
        }
      ]
    },
    {
      "cell_type": "code",
      "source": [
        "batch_size = 128\n",
        "epochs = 100\n",
        "\n",
        "Early_stopping_model_history_with_early_stopping = Early_stopping_model.fit(X_train, y_train, \n",
        "                                                        batch_size=batch_size, \n",
        "                                                        epochs=epochs, \n",
        "                                                        callbacks=[callback_early_stop],\n",
        "                                                        validation_data=(X_val, y_val))"
      ],
      "metadata": {
        "colab": {
          "base_uri": "https://localhost:8080/"
        },
        "id": "wQpPR6mUxf4O",
        "outputId": "5668649b-417f-4a60-f9aa-ed273dbd5ec5"
      },
      "execution_count": null,
      "outputs": [
        {
          "output_type": "stream",
          "name": "stdout",
          "text": [
            "Epoch 1/100\n",
            "375/375 [==============================] - 2s 4ms/step - loss: 1.4353 - accuracy: 0.4997 - val_loss: 0.9369 - val_accuracy: 0.6606\n",
            "Epoch 2/100\n",
            "375/375 [==============================] - 1s 3ms/step - loss: 0.9574 - accuracy: 0.6473 - val_loss: 0.8330 - val_accuracy: 0.6957\n",
            "Epoch 3/100\n",
            "375/375 [==============================] - 1s 3ms/step - loss: 0.8795 - accuracy: 0.6739 - val_loss: 0.7998 - val_accuracy: 0.7068\n",
            "Epoch 4/100\n",
            "375/375 [==============================] - 1s 4ms/step - loss: 0.8253 - accuracy: 0.6938 - val_loss: 0.7637 - val_accuracy: 0.7176\n",
            "Epoch 5/100\n",
            "375/375 [==============================] - 1s 3ms/step - loss: 0.8080 - accuracy: 0.7011 - val_loss: 0.7594 - val_accuracy: 0.7199\n",
            "Epoch 6/100\n",
            "375/375 [==============================] - 1s 4ms/step - loss: 0.7968 - accuracy: 0.7040 - val_loss: 0.7460 - val_accuracy: 0.7230\n",
            "Epoch 7/100\n",
            "375/375 [==============================] - 1s 3ms/step - loss: 0.7728 - accuracy: 0.7097 - val_loss: 0.7102 - val_accuracy: 0.7377\n",
            "Epoch 8/100\n",
            "375/375 [==============================] - 1s 3ms/step - loss: 0.7566 - accuracy: 0.7150 - val_loss: 0.7037 - val_accuracy: 0.7374\n",
            "Epoch 9/100\n",
            "375/375 [==============================] - 1s 4ms/step - loss: 0.7511 - accuracy: 0.7196 - val_loss: 0.7115 - val_accuracy: 0.7325\n",
            "Epoch 10/100\n",
            "375/375 [==============================] - 1s 3ms/step - loss: 0.7527 - accuracy: 0.7183 - val_loss: 0.7025 - val_accuracy: 0.7355\n",
            "Epoch 11/100\n",
            "375/375 [==============================] - 1s 4ms/step - loss: 0.7522 - accuracy: 0.7195 - val_loss: 0.7035 - val_accuracy: 0.7327\n",
            "Epoch 12/100\n",
            "375/375 [==============================] - 1s 4ms/step - loss: 0.7295 - accuracy: 0.7246 - val_loss: 0.6880 - val_accuracy: 0.7417\n",
            "Epoch 13/100\n",
            "375/375 [==============================] - 1s 3ms/step - loss: 0.7225 - accuracy: 0.7303 - val_loss: 0.6828 - val_accuracy: 0.7476\n",
            "Epoch 14/100\n",
            "375/375 [==============================] - 1s 4ms/step - loss: 0.7194 - accuracy: 0.7352 - val_loss: 0.6789 - val_accuracy: 0.7455\n",
            "Epoch 15/100\n",
            "375/375 [==============================] - 1s 3ms/step - loss: 0.7123 - accuracy: 0.7341 - val_loss: 0.6785 - val_accuracy: 0.7423\n",
            "Epoch 16/100\n",
            "375/375 [==============================] - 1s 3ms/step - loss: 0.7202 - accuracy: 0.7315 - val_loss: 0.6765 - val_accuracy: 0.7413\n",
            "Epoch 17/100\n",
            "375/375 [==============================] - 1s 3ms/step - loss: 0.7102 - accuracy: 0.7356 - val_loss: 0.6765 - val_accuracy: 0.7450\n",
            "Epoch 18/100\n",
            "375/375 [==============================] - 1s 3ms/step - loss: 0.7066 - accuracy: 0.7395 - val_loss: 0.6616 - val_accuracy: 0.7549\n",
            "Epoch 19/100\n",
            "375/375 [==============================] - 1s 3ms/step - loss: 0.6960 - accuracy: 0.7394 - val_loss: 0.6634 - val_accuracy: 0.7510\n",
            "Epoch 20/100\n",
            "375/375 [==============================] - 1s 3ms/step - loss: 0.6951 - accuracy: 0.7414 - val_loss: 0.6596 - val_accuracy: 0.7533\n",
            "Epoch 21/100\n",
            "375/375 [==============================] - 1s 4ms/step - loss: 0.6954 - accuracy: 0.7399 - val_loss: 0.6653 - val_accuracy: 0.7536\n",
            "Epoch 22/100\n",
            "375/375 [==============================] - 1s 3ms/step - loss: 0.6909 - accuracy: 0.7422 - val_loss: 0.6680 - val_accuracy: 0.7508\n",
            "Epoch 23/100\n",
            "375/375 [==============================] - 1s 4ms/step - loss: 0.6933 - accuracy: 0.7412 - val_loss: 0.6759 - val_accuracy: 0.7462\n",
            "Epoch 24/100\n",
            "375/375 [==============================] - 1s 4ms/step - loss: 0.6861 - accuracy: 0.7431 - val_loss: 0.6573 - val_accuracy: 0.7533\n",
            "Epoch 25/100\n",
            "375/375 [==============================] - 1s 3ms/step - loss: 0.6739 - accuracy: 0.7497 - val_loss: 0.6471 - val_accuracy: 0.7593\n",
            "Epoch 26/100\n",
            "375/375 [==============================] - 1s 3ms/step - loss: 0.6743 - accuracy: 0.7490 - val_loss: 0.6570 - val_accuracy: 0.7513\n",
            "Epoch 27/100\n",
            "375/375 [==============================] - 1s 4ms/step - loss: 0.6876 - accuracy: 0.7430 - val_loss: 0.6563 - val_accuracy: 0.7535\n",
            "Epoch 28/100\n",
            "375/375 [==============================] - 1s 3ms/step - loss: 0.6776 - accuracy: 0.7449 - val_loss: 0.6527 - val_accuracy: 0.7575\n",
            "Epoch 29/100\n",
            "375/375 [==============================] - 1s 3ms/step - loss: 0.6779 - accuracy: 0.7478 - val_loss: 0.6562 - val_accuracy: 0.7519\n",
            "Epoch 30/100\n",
            "375/375 [==============================] - 1s 4ms/step - loss: 0.6812 - accuracy: 0.7464 - val_loss: 0.6600 - val_accuracy: 0.7562\n"
          ]
        }
      ]
    },
    {
      "cell_type": "code",
      "source": [
        "plot_accuracy_vs_epochs(Early_stopping_model_history_with_early_stopping)"
      ],
      "metadata": {
        "colab": {
          "base_uri": "https://localhost:8080/",
          "height": 404
        },
        "id": "kSRLyHxwxqvp",
        "outputId": "b6494b4c-513d-48d7-98a7-98af84a896e7"
      },
      "execution_count": null,
      "outputs": [
        {
          "output_type": "display_data",
          "data": {
            "text/plain": [
              "<Figure size 432x432 with 1 Axes>"
            ],
            "image/png": "[encoded data removed]"
          },
          "metadata": {
            "needs_background": "light"
          }
        }
      ]
    },
    {
      "cell_type": "code",
      "source": [
        "#observation\n",
        "#With early stopping and correct parameters the model accuracy has come down. but, the model confidence in this will be high on unseen data as early stopping adressed the problem of model over fitting.\n",
        "#With this we will go ahead with this model for validation on unseen data"
      ],
      "metadata": {
        "id": "bowb-VoWyGQF"
      },
      "execution_count": null,
      "outputs": []
    },
    {
      "cell_type": "code",
      "source": [
        "#7. Manual Prediction check"
      ],
      "metadata": {
        "id": "XaPRilVqyQBQ"
      },
      "execution_count": null,
      "outputs": []
    },
    {
      "cell_type": "code",
      "source": [
        "model_prediction(Early_stopping_model, 9)"
      ],
      "metadata": {
        "colab": {
          "base_uri": "https://localhost:8080/",
          "height": 334
        },
        "id": "OMrs-HX9yU2W",
        "outputId": "d53eeb0a-2d85-4909-b8cd-9da683b6572e"
      },
      "execution_count": null,
      "outputs": [
        {
          "output_type": "stream",
          "name": "stdout",
          "text": [
            "313/313 [==============================] - 1s 2ms/step\n",
            "313/313 [==============================] - 0s 2ms/step\n",
            "The predicted label is: 0\n",
            "The actual label is:  0\n"
          ]
        },
        {
          "output_type": "display_data",
          "data": {
            "text/plain": [
              "<Figure size 432x288 with 1 Axes>"
            ],
            "image/png": "[encoded data removed]"
          },
          "metadata": {
            "needs_background": "light"
          }
        }
      ]
    },
    {
      "cell_type": "code",
      "source": [
        "#Label definition\n",
        "\n",
        "#T-shirt/top\n",
        "#Trouser\n",
        "#Pullover\n",
        "#Dress\n",
        "#Coat\n",
        "#Sandal\n",
        "#Shirt\n",
        "#Sneaker\n",
        "#Bag\n",
        "#Ankle boot"
      ],
      "metadata": {
        "id": "TLhKc4-NyXkq"
      },
      "execution_count": null,
      "outputs": []
    },
    {
      "cell_type": "code",
      "source": [
        "#8. Overall Test Accuracy"
      ],
      "metadata": {
        "id": "Tli9TA0PytzJ"
      },
      "execution_count": null,
      "outputs": []
    },
    {
      "cell_type": "code",
      "source": [
        "y_pred = Early_stopping_model.predict(x_test).argmax(axis=1)\n",
        "accuracy_score(y_test, y_pred)"
      ],
      "metadata": {
        "colab": {
          "base_uri": "https://localhost:8080/"
        },
        "id": "dmE5fzygyyip",
        "outputId": "835b9da8-a05d-44aa-e155-292bbbfbd492"
      },
      "execution_count": null,
      "outputs": [
        {
          "output_type": "stream",
          "name": "stdout",
          "text": [
            "313/313 [==============================] - 0s 2ms/step\n"
          ]
        },
        {
          "output_type": "execute_result",
          "data": {
            "text/plain": [
              "0.7553"
            ]
          },
          "metadata": {},
          "execution_count": 52
        }
      ]
    },
    {
      "cell_type": "code",
      "source": [
        "#observation\n",
        "#The test accuracy of the model is 75.31%. The early stopping model train and validation accuracy is was almost 75.38%. This concludes that model is generic. This model output can be trusted with 73% confidence.\n",
        "#** END *"
      ],
      "metadata": {
        "id": "U6AEIELVy1Y-"
      },
      "execution_count": null,
      "outputs": []
    },
    {
      "cell_type": "code",
      "source": [],
      "metadata": {
        "id": "SL6VVNb52h-w"
      },
      "execution_count": null,
      "outputs": []
    }
  ]
}